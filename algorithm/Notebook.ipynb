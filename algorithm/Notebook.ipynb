{
 "cells": [
  {
   "cell_type": "code",
   "execution_count": 50,
   "metadata": {},
   "outputs": [],
   "source": [
    "import pandas as pd\n",
    "import requests\n",
    "import json\n",
    "import time"
   ]
  },
  {
   "cell_type": "code",
   "execution_count": 3,
   "metadata": {},
   "outputs": [],
   "source": [
    "keywords = pd.read_csv('keywords.csv')"
   ]
  },
  {
   "cell_type": "code",
   "execution_count": 7,
   "metadata": {},
   "outputs": [],
   "source": [
    "keywords = keywords[keywords['Shortable'] == 1]"
   ]
  },
  {
   "cell_type": "code",
   "execution_count": 8,
   "metadata": {},
   "outputs": [],
   "source": [
    "keywords.to_csv('keywords.csv', index=None)"
   ]
  },
  {
   "cell_type": "code",
   "execution_count": 34,
   "metadata": {},
   "outputs": [],
   "source": [
    "#end_time = \"Now\""
   ]
  },
  {
   "cell_type": "code",
   "execution_count": null,
   "metadata": {},
   "outputs": [],
   "source": [
    "#make request into current url and go back until that time to get finex data"
   ]
  },
  {
   "cell_type": "code",
   "execution_count": 64,
   "metadata": {},
   "outputs": [],
   "source": [
    "start_time = 1561939200000\n",
    "end_time = 999999999999999\n",
    "all_df = pd.DataFrame()\n",
    "\n",
    "symbol = 'BTCUSD'"
   ]
  },
  {
   "cell_type": "code",
   "execution_count": 65,
   "metadata": {},
   "outputs": [
    {
     "name": "stdout",
     "output_type": "stream",
     "text": [
      "999999999999999\n",
      "1566421620000\n",
      "1566119520000\n",
      "1565817660000\n",
      "1565515380000\n",
      "1565213700000\n",
      "1564913280000\n",
      "1564601580000\n",
      "1564299480000\n",
      "1563997800000\n",
      "1563696900000\n",
      "1563396780000\n",
      "1563096780000\n",
      "1562786640000\n",
      "1562486040000\n",
      "1562185560000\n"
     ]
    }
   ],
   "source": [
    "while end_time > start_time:\n",
    "    print(end_time)\n",
    "    \n",
    "    if end_time == 999999999999999:\n",
    "        res = requests.get('https://api.bitfinex.com/v2/candles/trade:1m:t{}/hist?limit=5000'.format(symbol))\n",
    "    else:\n",
    "        res = requests.get('https://api.bitfinex.com/v2/candles/trade:1m:t{}/hist?end={}&limit=5000'.format(symbol, end_time))\n",
    "    \n",
    "    df = pd.DataFrame(json.loads(res.text))\n",
    "    df.columns = ['Time', 'Open', 'Close', 'High', 'Low', 'Volume']\n",
    "    end_time = df['Time'].iloc[-1]\n",
    "    df['Time'] = pd.to_datetime(df['Time'], unit='ms')\n",
    "    \n",
    "    all_df = pd.concat([all_df, df])\n",
    "    time.sleep(1)"
   ]
  },
  {
   "cell_type": "code",
   "execution_count": 70,
   "metadata": {},
   "outputs": [],
   "source": [
    "all_df = all_df.sort_values('Time').drop_duplicates(['Time']).reset_index(drop=True)"
   ]
  },
  {
   "cell_type": "code",
   "execution_count": 73,
   "metadata": {},
   "outputs": [],
   "source": [
    "all_df['Volume'] = all_df['Volume'] * all_df['Open']"
   ]
  },
  {
   "cell_type": "code",
   "execution_count": 82,
   "metadata": {},
   "outputs": [
    {
     "data": {
      "text/plain": [
       "1566725280000"
      ]
     },
     "execution_count": 82,
     "metadata": {},
     "output_type": "execute_result"
    }
   ],
   "source": [
    "#try and convert volume in terms of USD\n",
    "all_df['Time'].astype(int).iloc[-1] // 10**6 #in terms of millisecond"
   ]
  }
 ],
 "metadata": {
  "kernelspec": {
   "display_name": "crypto-analysis",
   "language": "python",
   "name": "crypto-analysis"
  },
  "language_info": {
   "codemirror_mode": {
    "name": "ipython",
    "version": 3
   },
   "file_extension": ".py",
   "mimetype": "text/x-python",
   "name": "python",
   "nbconvert_exporter": "python",
   "pygments_lexer": "ipython3",
   "version": "3.7.4"
  }
 },
 "nbformat": 4,
 "nbformat_minor": 2
}
