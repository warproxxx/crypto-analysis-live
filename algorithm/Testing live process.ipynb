{
 "cells": [
  {
   "cell_type": "code",
   "execution_count": 1,
   "metadata": {},
   "outputs": [
    {
     "data": {
      "text/html": [
       "\n",
       "    <div class=\"bk-root\">\n",
       "        <a href=\"https://bokeh.pydata.org\" target=\"_blank\" class=\"bk-logo bk-logo-small bk-logo-notebook\"></a>\n",
       "        <span id=\"1001\">Loading BokehJS ...</span>\n",
       "    </div>"
      ]
     },
     "metadata": {},
     "output_type": "display_data"
    },
    {
     "data": {
      "application/javascript": [
       "\n",
       "(function(root) {\n",
       "  function now() {\n",
       "    return new Date();\n",
       "  }\n",
       "\n",
       "  var force = true;\n",
       "\n",
       "  if (typeof (root._bokeh_onload_callbacks) === \"undefined\" || force === true) {\n",
       "    root._bokeh_onload_callbacks = [];\n",
       "    root._bokeh_is_loading = undefined;\n",
       "  }\n",
       "\n",
       "  var JS_MIME_TYPE = 'application/javascript';\n",
       "  var HTML_MIME_TYPE = 'text/html';\n",
       "  var EXEC_MIME_TYPE = 'application/vnd.bokehjs_exec.v0+json';\n",
       "  var CLASS_NAME = 'output_bokeh rendered_html';\n",
       "\n",
       "  /**\n",
       "   * Render data to the DOM node\n",
       "   */\n",
       "  function render(props, node) {\n",
       "    var script = document.createElement(\"script\");\n",
       "    node.appendChild(script);\n",
       "  }\n",
       "\n",
       "  /**\n",
       "   * Handle when an output is cleared or removed\n",
       "   */\n",
       "  function handleClearOutput(event, handle) {\n",
       "    var cell = handle.cell;\n",
       "\n",
       "    var id = cell.output_area._bokeh_element_id;\n",
       "    var server_id = cell.output_area._bokeh_server_id;\n",
       "    // Clean up Bokeh references\n",
       "    if (id != null && id in Bokeh.index) {\n",
       "      Bokeh.index[id].model.document.clear();\n",
       "      delete Bokeh.index[id];\n",
       "    }\n",
       "\n",
       "    if (server_id !== undefined) {\n",
       "      // Clean up Bokeh references\n",
       "      var cmd = \"from bokeh.io.state import curstate; print(curstate().uuid_to_server['\" + server_id + \"'].get_sessions()[0].document.roots[0]._id)\";\n",
       "      cell.notebook.kernel.execute(cmd, {\n",
       "        iopub: {\n",
       "          output: function(msg) {\n",
       "            var id = msg.content.text.trim();\n",
       "            if (id in Bokeh.index) {\n",
       "              Bokeh.index[id].model.document.clear();\n",
       "              delete Bokeh.index[id];\n",
       "            }\n",
       "          }\n",
       "        }\n",
       "      });\n",
       "      // Destroy server and session\n",
       "      var cmd = \"import bokeh.io.notebook as ion; ion.destroy_server('\" + server_id + \"')\";\n",
       "      cell.notebook.kernel.execute(cmd);\n",
       "    }\n",
       "  }\n",
       "\n",
       "  /**\n",
       "   * Handle when a new output is added\n",
       "   */\n",
       "  function handleAddOutput(event, handle) {\n",
       "    var output_area = handle.output_area;\n",
       "    var output = handle.output;\n",
       "\n",
       "    // limit handleAddOutput to display_data with EXEC_MIME_TYPE content only\n",
       "    if ((output.output_type != \"display_data\") || (!output.data.hasOwnProperty(EXEC_MIME_TYPE))) {\n",
       "      return\n",
       "    }\n",
       "\n",
       "    var toinsert = output_area.element.find(\".\" + CLASS_NAME.split(' ')[0]);\n",
       "\n",
       "    if (output.metadata[EXEC_MIME_TYPE][\"id\"] !== undefined) {\n",
       "      toinsert[toinsert.length - 1].firstChild.textContent = output.data[JS_MIME_TYPE];\n",
       "      // store reference to embed id on output_area\n",
       "      output_area._bokeh_element_id = output.metadata[EXEC_MIME_TYPE][\"id\"];\n",
       "    }\n",
       "    if (output.metadata[EXEC_MIME_TYPE][\"server_id\"] !== undefined) {\n",
       "      var bk_div = document.createElement(\"div\");\n",
       "      bk_div.innerHTML = output.data[HTML_MIME_TYPE];\n",
       "      var script_attrs = bk_div.children[0].attributes;\n",
       "      for (var i = 0; i < script_attrs.length; i++) {\n",
       "        toinsert[toinsert.length - 1].firstChild.setAttribute(script_attrs[i].name, script_attrs[i].value);\n",
       "      }\n",
       "      // store reference to server id on output_area\n",
       "      output_area._bokeh_server_id = output.metadata[EXEC_MIME_TYPE][\"server_id\"];\n",
       "    }\n",
       "  }\n",
       "\n",
       "  function register_renderer(events, OutputArea) {\n",
       "\n",
       "    function append_mime(data, metadata, element) {\n",
       "      // create a DOM node to render to\n",
       "      var toinsert = this.create_output_subarea(\n",
       "        metadata,\n",
       "        CLASS_NAME,\n",
       "        EXEC_MIME_TYPE\n",
       "      );\n",
       "      this.keyboard_manager.register_events(toinsert);\n",
       "      // Render to node\n",
       "      var props = {data: data, metadata: metadata[EXEC_MIME_TYPE]};\n",
       "      render(props, toinsert[toinsert.length - 1]);\n",
       "      element.append(toinsert);\n",
       "      return toinsert\n",
       "    }\n",
       "\n",
       "    /* Handle when an output is cleared or removed */\n",
       "    events.on('clear_output.CodeCell', handleClearOutput);\n",
       "    events.on('delete.Cell', handleClearOutput);\n",
       "\n",
       "    /* Handle when a new output is added */\n",
       "    events.on('output_added.OutputArea', handleAddOutput);\n",
       "\n",
       "    /**\n",
       "     * Register the mime type and append_mime function with output_area\n",
       "     */\n",
       "    OutputArea.prototype.register_mime_type(EXEC_MIME_TYPE, append_mime, {\n",
       "      /* Is output safe? */\n",
       "      safe: true,\n",
       "      /* Index of renderer in `output_area.display_order` */\n",
       "      index: 0\n",
       "    });\n",
       "  }\n",
       "\n",
       "  // register the mime type if in Jupyter Notebook environment and previously unregistered\n",
       "  if (root.Jupyter !== undefined) {\n",
       "    var events = require('base/js/events');\n",
       "    var OutputArea = require('notebook/js/outputarea').OutputArea;\n",
       "\n",
       "    if (OutputArea.prototype.mime_types().indexOf(EXEC_MIME_TYPE) == -1) {\n",
       "      register_renderer(events, OutputArea);\n",
       "    }\n",
       "  }\n",
       "\n",
       "  \n",
       "  if (typeof (root._bokeh_timeout) === \"undefined\" || force === true) {\n",
       "    root._bokeh_timeout = Date.now() + 5000;\n",
       "    root._bokeh_failed_load = false;\n",
       "  }\n",
       "\n",
       "  var NB_LOAD_WARNING = {'data': {'text/html':\n",
       "     \"<div style='background-color: #fdd'>\\n\"+\n",
       "     \"<p>\\n\"+\n",
       "     \"BokehJS does not appear to have successfully loaded. If loading BokehJS from CDN, this \\n\"+\n",
       "     \"may be due to a slow or bad network connection. Possible fixes:\\n\"+\n",
       "     \"</p>\\n\"+\n",
       "     \"<ul>\\n\"+\n",
       "     \"<li>re-rerun `output_notebook()` to attempt to load from CDN again, or</li>\\n\"+\n",
       "     \"<li>use INLINE resources instead, as so:</li>\\n\"+\n",
       "     \"</ul>\\n\"+\n",
       "     \"<code>\\n\"+\n",
       "     \"from bokeh.resources import INLINE\\n\"+\n",
       "     \"output_notebook(resources=INLINE)\\n\"+\n",
       "     \"</code>\\n\"+\n",
       "     \"</div>\"}};\n",
       "\n",
       "  function display_loaded() {\n",
       "    var el = document.getElementById(\"1001\");\n",
       "    if (el != null) {\n",
       "      el.textContent = \"BokehJS is loading...\";\n",
       "    }\n",
       "    if (root.Bokeh !== undefined) {\n",
       "      if (el != null) {\n",
       "        el.textContent = \"BokehJS \" + root.Bokeh.version + \" successfully loaded.\";\n",
       "      }\n",
       "    } else if (Date.now() < root._bokeh_timeout) {\n",
       "      setTimeout(display_loaded, 100)\n",
       "    }\n",
       "  }\n",
       "\n",
       "\n",
       "  function run_callbacks() {\n",
       "    try {\n",
       "      root._bokeh_onload_callbacks.forEach(function(callback) { callback() });\n",
       "    }\n",
       "    finally {\n",
       "      delete root._bokeh_onload_callbacks\n",
       "    }\n",
       "    console.info(\"Bokeh: all callbacks have finished\");\n",
       "  }\n",
       "\n",
       "  function load_libs(js_urls, callback) {\n",
       "    root._bokeh_onload_callbacks.push(callback);\n",
       "    if (root._bokeh_is_loading > 0) {\n",
       "      console.log(\"Bokeh: BokehJS is being loaded, scheduling callback at\", now());\n",
       "      return null;\n",
       "    }\n",
       "    if (js_urls == null || js_urls.length === 0) {\n",
       "      run_callbacks();\n",
       "      return null;\n",
       "    }\n",
       "    console.log(\"Bokeh: BokehJS not loaded, scheduling load and callback at\", now());\n",
       "    root._bokeh_is_loading = js_urls.length;\n",
       "    for (var i = 0; i < js_urls.length; i++) {\n",
       "      var url = js_urls[i];\n",
       "      var s = document.createElement('script');\n",
       "      s.src = url;\n",
       "      s.async = false;\n",
       "      s.onreadystatechange = s.onload = function() {\n",
       "        root._bokeh_is_loading--;\n",
       "        if (root._bokeh_is_loading === 0) {\n",
       "          console.log(\"Bokeh: all BokehJS libraries loaded\");\n",
       "          run_callbacks()\n",
       "        }\n",
       "      };\n",
       "      s.onerror = function() {\n",
       "        console.warn(\"failed to load library \" + url);\n",
       "      };\n",
       "      console.log(\"Bokeh: injecting script tag for BokehJS library: \", url);\n",
       "      document.getElementsByTagName(\"head\")[0].appendChild(s);\n",
       "    }\n",
       "  };var element = document.getElementById(\"1001\");\n",
       "  if (element == null) {\n",
       "    console.log(\"Bokeh: ERROR: autoload.js configured with elementid '1001' but no matching script tag was found. \")\n",
       "    return false;\n",
       "  }\n",
       "\n",
       "  var js_urls = [\"https://cdn.pydata.org/bokeh/release/bokeh-1.0.4.min.js\", \"https://cdn.pydata.org/bokeh/release/bokeh-widgets-1.0.4.min.js\", \"https://cdn.pydata.org/bokeh/release/bokeh-tables-1.0.4.min.js\", \"https://cdn.pydata.org/bokeh/release/bokeh-gl-1.0.4.min.js\"];\n",
       "\n",
       "  var inline_js = [\n",
       "    function(Bokeh) {\n",
       "      Bokeh.set_log_level(\"info\");\n",
       "    },\n",
       "    \n",
       "    function(Bokeh) {\n",
       "      \n",
       "    },\n",
       "    function(Bokeh) {\n",
       "      console.log(\"Bokeh: injecting CSS: https://cdn.pydata.org/bokeh/release/bokeh-1.0.4.min.css\");\n",
       "      Bokeh.embed.inject_css(\"https://cdn.pydata.org/bokeh/release/bokeh-1.0.4.min.css\");\n",
       "      console.log(\"Bokeh: injecting CSS: https://cdn.pydata.org/bokeh/release/bokeh-widgets-1.0.4.min.css\");\n",
       "      Bokeh.embed.inject_css(\"https://cdn.pydata.org/bokeh/release/bokeh-widgets-1.0.4.min.css\");\n",
       "      console.log(\"Bokeh: injecting CSS: https://cdn.pydata.org/bokeh/release/bokeh-tables-1.0.4.min.css\");\n",
       "      Bokeh.embed.inject_css(\"https://cdn.pydata.org/bokeh/release/bokeh-tables-1.0.4.min.css\");\n",
       "    }\n",
       "  ];\n",
       "\n",
       "  function run_inline_js() {\n",
       "    \n",
       "    if ((root.Bokeh !== undefined) || (force === true)) {\n",
       "      for (var i = 0; i < inline_js.length; i++) {\n",
       "        inline_js[i].call(root, root.Bokeh);\n",
       "      }if (force === true) {\n",
       "        display_loaded();\n",
       "      }} else if (Date.now() < root._bokeh_timeout) {\n",
       "      setTimeout(run_inline_js, 100);\n",
       "    } else if (!root._bokeh_failed_load) {\n",
       "      console.log(\"Bokeh: BokehJS failed to load within specified timeout.\");\n",
       "      root._bokeh_failed_load = true;\n",
       "    } else if (force !== true) {\n",
       "      var cell = $(document.getElementById(\"1001\")).parents('.cell').data().cell;\n",
       "      cell.output_area.append_execute_result(NB_LOAD_WARNING)\n",
       "    }\n",
       "\n",
       "  }\n",
       "\n",
       "  if (root._bokeh_is_loading === 0) {\n",
       "    console.log(\"Bokeh: BokehJS loaded, going straight to plotting\");\n",
       "    run_inline_js();\n",
       "  } else {\n",
       "    load_libs(js_urls, function() {\n",
       "      console.log(\"Bokeh: BokehJS plotting callback run at\", now());\n",
       "      run_inline_js();\n",
       "    });\n",
       "  }\n",
       "}(window));"
      ],
      "application/vnd.bokehjs_load.v0+json": "\n(function(root) {\n  function now() {\n    return new Date();\n  }\n\n  var force = true;\n\n  if (typeof (root._bokeh_onload_callbacks) === \"undefined\" || force === true) {\n    root._bokeh_onload_callbacks = [];\n    root._bokeh_is_loading = undefined;\n  }\n\n  \n\n  \n  if (typeof (root._bokeh_timeout) === \"undefined\" || force === true) {\n    root._bokeh_timeout = Date.now() + 5000;\n    root._bokeh_failed_load = false;\n  }\n\n  var NB_LOAD_WARNING = {'data': {'text/html':\n     \"<div style='background-color: #fdd'>\\n\"+\n     \"<p>\\n\"+\n     \"BokehJS does not appear to have successfully loaded. If loading BokehJS from CDN, this \\n\"+\n     \"may be due to a slow or bad network connection. Possible fixes:\\n\"+\n     \"</p>\\n\"+\n     \"<ul>\\n\"+\n     \"<li>re-rerun `output_notebook()` to attempt to load from CDN again, or</li>\\n\"+\n     \"<li>use INLINE resources instead, as so:</li>\\n\"+\n     \"</ul>\\n\"+\n     \"<code>\\n\"+\n     \"from bokeh.resources import INLINE\\n\"+\n     \"output_notebook(resources=INLINE)\\n\"+\n     \"</code>\\n\"+\n     \"</div>\"}};\n\n  function display_loaded() {\n    var el = document.getElementById(\"1001\");\n    if (el != null) {\n      el.textContent = \"BokehJS is loading...\";\n    }\n    if (root.Bokeh !== undefined) {\n      if (el != null) {\n        el.textContent = \"BokehJS \" + root.Bokeh.version + \" successfully loaded.\";\n      }\n    } else if (Date.now() < root._bokeh_timeout) {\n      setTimeout(display_loaded, 100)\n    }\n  }\n\n\n  function run_callbacks() {\n    try {\n      root._bokeh_onload_callbacks.forEach(function(callback) { callback() });\n    }\n    finally {\n      delete root._bokeh_onload_callbacks\n    }\n    console.info(\"Bokeh: all callbacks have finished\");\n  }\n\n  function load_libs(js_urls, callback) {\n    root._bokeh_onload_callbacks.push(callback);\n    if (root._bokeh_is_loading > 0) {\n      console.log(\"Bokeh: BokehJS is being loaded, scheduling callback at\", now());\n      return null;\n    }\n    if (js_urls == null || js_urls.length === 0) {\n      run_callbacks();\n      return null;\n    }\n    console.log(\"Bokeh: BokehJS not loaded, scheduling load and callback at\", now());\n    root._bokeh_is_loading = js_urls.length;\n    for (var i = 0; i < js_urls.length; i++) {\n      var url = js_urls[i];\n      var s = document.createElement('script');\n      s.src = url;\n      s.async = false;\n      s.onreadystatechange = s.onload = function() {\n        root._bokeh_is_loading--;\n        if (root._bokeh_is_loading === 0) {\n          console.log(\"Bokeh: all BokehJS libraries loaded\");\n          run_callbacks()\n        }\n      };\n      s.onerror = function() {\n        console.warn(\"failed to load library \" + url);\n      };\n      console.log(\"Bokeh: injecting script tag for BokehJS library: \", url);\n      document.getElementsByTagName(\"head\")[0].appendChild(s);\n    }\n  };var element = document.getElementById(\"1001\");\n  if (element == null) {\n    console.log(\"Bokeh: ERROR: autoload.js configured with elementid '1001' but no matching script tag was found. \")\n    return false;\n  }\n\n  var js_urls = [\"https://cdn.pydata.org/bokeh/release/bokeh-1.0.4.min.js\", \"https://cdn.pydata.org/bokeh/release/bokeh-widgets-1.0.4.min.js\", \"https://cdn.pydata.org/bokeh/release/bokeh-tables-1.0.4.min.js\", \"https://cdn.pydata.org/bokeh/release/bokeh-gl-1.0.4.min.js\"];\n\n  var inline_js = [\n    function(Bokeh) {\n      Bokeh.set_log_level(\"info\");\n    },\n    \n    function(Bokeh) {\n      \n    },\n    function(Bokeh) {\n      console.log(\"Bokeh: injecting CSS: https://cdn.pydata.org/bokeh/release/bokeh-1.0.4.min.css\");\n      Bokeh.embed.inject_css(\"https://cdn.pydata.org/bokeh/release/bokeh-1.0.4.min.css\");\n      console.log(\"Bokeh: injecting CSS: https://cdn.pydata.org/bokeh/release/bokeh-widgets-1.0.4.min.css\");\n      Bokeh.embed.inject_css(\"https://cdn.pydata.org/bokeh/release/bokeh-widgets-1.0.4.min.css\");\n      console.log(\"Bokeh: injecting CSS: https://cdn.pydata.org/bokeh/release/bokeh-tables-1.0.4.min.css\");\n      Bokeh.embed.inject_css(\"https://cdn.pydata.org/bokeh/release/bokeh-tables-1.0.4.min.css\");\n    }\n  ];\n\n  function run_inline_js() {\n    \n    if ((root.Bokeh !== undefined) || (force === true)) {\n      for (var i = 0; i < inline_js.length; i++) {\n        inline_js[i].call(root, root.Bokeh);\n      }if (force === true) {\n        display_loaded();\n      }} else if (Date.now() < root._bokeh_timeout) {\n      setTimeout(run_inline_js, 100);\n    } else if (!root._bokeh_failed_load) {\n      console.log(\"Bokeh: BokehJS failed to load within specified timeout.\");\n      root._bokeh_failed_load = true;\n    } else if (force !== true) {\n      var cell = $(document.getElementById(\"1001\")).parents('.cell').data().cell;\n      cell.output_area.append_execute_result(NB_LOAD_WARNING)\n    }\n\n  }\n\n  if (root._bokeh_is_loading === 0) {\n    console.log(\"Bokeh: BokehJS loaded, going straight to plotting\");\n    run_inline_js();\n  } else {\n    load_libs(js_urls, function() {\n      console.log(\"Bokeh: BokehJS plotting callback run at\", now());\n      run_inline_js();\n    });\n  }\n}(window));"
     },
     "metadata": {},
     "output_type": "display_data"
    }
   ],
   "source": [
    "import os\n",
    "import shutil\n",
    "from threading import Thread\n",
    "from glob import glob\n",
    "from subprocess import Popen\n",
    "\n",
    "import pandas as pd\n",
    "import numpy as np\n",
    "\n",
    "import datetime\n",
    "import time\n",
    "\n",
    "from features import get_features, perform_backtest\n",
    "\n",
    "from twitter_stream import twitter_stream\n",
    "from price_stream import price_stream\n",
    "from utils.get_price_data import get_price\n",
    "from utils.common_utils import get_root_dir, merge_csvs\n",
    "from process import processor, get_sentiment, clean_further, add_keyword, clean_profile"
   ]
  },
  {
   "cell_type": "code",
   "execution_count": 2,
   "metadata": {},
   "outputs": [],
   "source": [
    "keywords = pd.read_csv('keywords.csv')"
   ]
  },
  {
   "cell_type": "code",
   "execution_count": 3,
   "metadata": {},
   "outputs": [],
   "source": [
    "files = glob('data/test/*')"
   ]
  },
  {
   "cell_type": "code",
   "execution_count": 4,
   "metadata": {},
   "outputs": [],
   "source": [
    "combined = merge_csvs(files)"
   ]
  },
  {
   "cell_type": "code",
   "execution_count": 5,
   "metadata": {},
   "outputs": [],
   "source": [
    "df = pd.read_csv(combined)"
   ]
  },
  {
   "cell_type": "code",
   "execution_count": 6,
   "metadata": {},
   "outputs": [
    {
     "name": "stderr",
     "output_type": "stream",
     "text": [
      "/home/warproxxx/Desktop/Projects/crypto-analysis-live/algorithm/process.py:95: SettingWithCopyWarning:\n",
      "\n",
      "\n",
      "A value is trying to be set on a copy of a slice from a DataFrame.\n",
      "Try using .loc[row_indexer,col_indexer] = value instead\n",
      "\n",
      "See the caveats in the documentation: http://pandas.pydata.org/pandas-docs/stable/indexing.html#indexing-view-versus-copy\n",
      "\n",
      "/home/warproxxx/Desktop/Projects/crypto-analysis-live/algorithm/process.py:96: SettingWithCopyWarning:\n",
      "\n",
      "\n",
      "A value is trying to be set on a copy of a slice from a DataFrame.\n",
      "Try using .loc[row_indexer,col_indexer] = value instead\n",
      "\n",
      "See the caveats in the documentation: http://pandas.pydata.org/pandas-docs/stable/indexing.html#indexing-view-versus-copy\n",
      "\n"
     ]
    }
   ],
   "source": [
    "df, user_info = processor(df)"
   ]
  },
  {
   "cell_type": "code",
   "execution_count": 7,
   "metadata": {},
   "outputs": [
    {
     "data": {
      "text/plain": [
       "1236040"
      ]
     },
     "execution_count": 7,
     "metadata": {},
     "output_type": "execute_result"
    }
   ],
   "source": [
    "len(df)"
   ]
  },
  {
   "cell_type": "code",
   "execution_count": 8,
   "metadata": {},
   "outputs": [
    {
     "data": {
      "text/plain": [
       "443808"
      ]
     },
     "execution_count": 8,
     "metadata": {},
     "output_type": "execute_result"
    }
   ],
   "source": [
    "len(user_info)"
   ]
  },
  {
   "cell_type": "code",
   "execution_count": 9,
   "metadata": {},
   "outputs": [
    {
     "data": {
      "text/plain": [
       "dtype('int64')"
      ]
     },
     "execution_count": 9,
     "metadata": {},
     "output_type": "execute_result"
    }
   ],
   "source": [
    "df['Time'].dtype"
   ]
  },
  {
   "cell_type": "code",
   "execution_count": 10,
   "metadata": {},
   "outputs": [
    {
     "data": {
      "text/plain": [
       "dtype('int64')"
      ]
     },
     "execution_count": 10,
     "metadata": {},
     "output_type": "execute_result"
    }
   ],
   "source": [
    "df['ID'].dtype"
   ]
  },
  {
   "cell_type": "code",
   "execution_count": 11,
   "metadata": {},
   "outputs": [],
   "source": [
    "df['Time'] = pd.to_datetime(df['Time'], unit='s')"
   ]
  },
  {
   "cell_type": "code",
   "execution_count": 12,
   "metadata": {},
   "outputs": [
    {
     "data": {
      "application/vnd.jupyter.widget-view+json": {
       "model_id": "77fc2eaf8aa2482d815303565c86d9b9",
       "version_major": 2,
       "version_minor": 0
      },
      "text/plain": [
       "HBox(children=(IntProgress(value=0, description='Pandas Apply', max=1236040, style=ProgressStyle(description_w…"
      ]
     },
     "metadata": {},
     "output_type": "display_data"
    },
    {
     "name": "stdout",
     "output_type": "stream",
     "text": [
      "\n"
     ]
    }
   ],
   "source": [
    "df = add_keyword(df)"
   ]
  },
  {
   "cell_type": "code",
   "execution_count": 13,
   "metadata": {},
   "outputs": [
    {
     "data": {
      "text/plain": [
       "invalid    865638\n",
       "BTC        220742\n",
       "ETH         50106\n",
       "TRX         26803\n",
       "XRP         26653\n",
       "LTC         12940\n",
       "EOS         10005\n",
       "MIOTA        5494\n",
       "LINK         4057\n",
       "BCHABC       2323\n",
       "XLM          2244\n",
       "ADA          1556\n",
       "ZEC          1418\n",
       "XMR          1288\n",
       "BNB          1098\n",
       "BSV           982\n",
       "XTZ           826\n",
       "DASH          595\n",
       "NEO           571\n",
       "ETC           361\n",
       "BTG           171\n",
       "ZRX            88\n",
       "OMG            37\n",
       "ETP            26\n",
       "SAN            18\n",
       "Name: keyword, dtype: int64"
      ]
     },
     "execution_count": 13,
     "metadata": {},
     "output_type": "execute_result"
    }
   ],
   "source": [
    "df['keyword'].value_counts(dropna=False)"
   ]
  },
  {
   "cell_type": "code",
   "execution_count": 14,
   "metadata": {},
   "outputs": [],
   "source": [
    "df = df[df['keyword'] != 'invalid']"
   ]
  },
  {
   "cell_type": "code",
   "execution_count": 15,
   "metadata": {},
   "outputs": [],
   "source": [
    "df = df.reset_index(drop=True)"
   ]
  },
  {
   "cell_type": "code",
   "execution_count": 16,
   "metadata": {},
   "outputs": [
    {
     "name": "stderr",
     "output_type": "stream",
     "text": [
      "/home/warproxxx/Desktop/Projects/crypto-analysis-live/algorithm/process.py:191: FutureWarning:\n",
      "\n",
      "The signature of `Series.to_csv` was aligned to that of `DataFrame.to_csv`, and argument 'header' will change its default value from False to True: please pass an explicit value to suppress this warning.\n",
      "\n"
     ]
    },
    {
     "name": "stdout",
     "output_type": "stream",
     "text": [
      "java -jar /home/warproxxx/Desktop/Projects/crypto-analysis-live/algorithm/utils/SentiStrength.jar sentidata /home/warproxxx/Desktop/Projects/crypto-analysis-live/algorithm/utils/SentiStrength_Data/ input /home/warproxxx/Desktop/Projects/crypto-analysis-live/algorithm/data/temp/tweets\n"
     ]
    }
   ],
   "source": [
    "df = get_sentiment(df)"
   ]
  },
  {
   "cell_type": "code",
   "execution_count": 17,
   "metadata": {},
   "outputs": [
    {
     "data": {
      "text/plain": [
       " 0    204810\n",
       " 1     65900\n",
       " 2     37442\n",
       "-1     33652\n",
       "-2     11371\n",
       " 3      8994\n",
       "-3      4450\n",
       " 4      3608\n",
       "-4       175\n",
       "Name: pos_neg, dtype: int64"
      ]
     },
     "execution_count": 17,
     "metadata": {},
     "output_type": "execute_result"
    }
   ],
   "source": [
    "df['pos_neg'].value_counts(dropna=False)"
   ]
  },
  {
   "cell_type": "code",
   "execution_count": 18,
   "metadata": {},
   "outputs": [],
   "source": [
    "profilefile = 'data/cleaned_profile.csv'"
   ]
  },
  {
   "cell_type": "code",
   "execution_count": 19,
   "metadata": {},
   "outputs": [],
   "source": [
    "if os.path.isfile(profilefile):\n",
    "    user_info = pd.concat([user_info, pd.read_csv(profilefile)])\n",
    "    user_info = clean_profile(user_info)"
   ]
  },
  {
   "cell_type": "code",
   "execution_count": 20,
   "metadata": {},
   "outputs": [],
   "source": [
    "df = df.sort_values('Time')\n",
    "df = df.set_index('Time')\n",
    "df.index = df.index.ceil(freq='30Min')  \n",
    "df = df.reset_index()"
   ]
  },
  {
   "cell_type": "code",
   "execution_count": 21,
   "metadata": {},
   "outputs": [],
   "source": [
    "coin_name = 'BTC'"
   ]
  },
  {
   "cell_type": "code",
   "execution_count": 22,
   "metadata": {},
   "outputs": [],
   "source": [
    "## VERIFYING TIME"
   ]
  },
  {
   "cell_type": "code",
   "execution_count": 23,
   "metadata": {},
   "outputs": [
    {
     "data": {
      "text/plain": [
       "Timestamp('2019-08-09 06:30:00')"
      ]
     },
     "execution_count": 23,
     "metadata": {},
     "output_type": "execute_result"
    }
   ],
   "source": [
    "pd.Timestamp('2019-08-09 06:01:00').ceil(freq='30Min') #test of ceil"
   ]
  },
  {
   "cell_type": "code",
   "execution_count": 24,
   "metadata": {},
   "outputs": [],
   "source": [
    "price_df = pd.read_csv('data/price/{}.csv'.format(coin_name))"
   ]
  },
  {
   "cell_type": "code",
   "execution_count": 25,
   "metadata": {},
   "outputs": [],
   "source": [
    "price_df['Time'] = pd.to_datetime(price_df['Time'])"
   ]
  },
  {
   "cell_type": "code",
   "execution_count": 26,
   "metadata": {
    "scrolled": true
   },
   "outputs": [
    {
     "data": {
      "text/html": [
       "<div>\n",
       "<style scoped>\n",
       "    .dataframe tbody tr th:only-of-type {\n",
       "        vertical-align: middle;\n",
       "    }\n",
       "\n",
       "    .dataframe tbody tr th {\n",
       "        vertical-align: top;\n",
       "    }\n",
       "\n",
       "    .dataframe thead th {\n",
       "        text-align: right;\n",
       "    }\n",
       "</style>\n",
       "<table border=\"1\" class=\"dataframe\">\n",
       "  <thead>\n",
       "    <tr style=\"text-align: right;\">\n",
       "      <th></th>\n",
       "      <th>Time</th>\n",
       "      <th>Open</th>\n",
       "      <th>High</th>\n",
       "      <th>Low</th>\n",
       "      <th>Close</th>\n",
       "      <th>Volume</th>\n",
       "    </tr>\n",
       "  </thead>\n",
       "  <tbody>\n",
       "    <tr>\n",
       "      <th>0</th>\n",
       "      <td>2019-07-01 00:00:00</td>\n",
       "      <td>10854.10</td>\n",
       "      <td>10883.19</td>\n",
       "      <td>10840.10</td>\n",
       "      <td>10876.07</td>\n",
       "      <td>1.496492e+06</td>\n",
       "    </tr>\n",
       "    <tr>\n",
       "      <th>1</th>\n",
       "      <td>2019-07-01 00:01:00</td>\n",
       "      <td>10877.24</td>\n",
       "      <td>10885.57</td>\n",
       "      <td>10853.20</td>\n",
       "      <td>10881.44</td>\n",
       "      <td>1.099121e+06</td>\n",
       "    </tr>\n",
       "    <tr>\n",
       "      <th>2</th>\n",
       "      <td>2019-07-01 00:02:00</td>\n",
       "      <td>10880.16</td>\n",
       "      <td>10880.17</td>\n",
       "      <td>10835.00</td>\n",
       "      <td>10835.00</td>\n",
       "      <td>1.574824e+06</td>\n",
       "    </tr>\n",
       "    <tr>\n",
       "      <th>3</th>\n",
       "      <td>2019-07-01 00:03:00</td>\n",
       "      <td>10835.02</td>\n",
       "      <td>10840.00</td>\n",
       "      <td>10811.99</td>\n",
       "      <td>10828.56</td>\n",
       "      <td>1.719258e+06</td>\n",
       "    </tr>\n",
       "    <tr>\n",
       "      <th>4</th>\n",
       "      <td>2019-07-01 00:04:00</td>\n",
       "      <td>10826.60</td>\n",
       "      <td>10827.97</td>\n",
       "      <td>10775.00</td>\n",
       "      <td>10812.51</td>\n",
       "      <td>1.394439e+06</td>\n",
       "    </tr>\n",
       "    <tr>\n",
       "      <th>5</th>\n",
       "      <td>2019-07-01 00:05:00</td>\n",
       "      <td>10812.51</td>\n",
       "      <td>10826.74</td>\n",
       "      <td>10736.05</td>\n",
       "      <td>10736.05</td>\n",
       "      <td>2.634270e+06</td>\n",
       "    </tr>\n",
       "    <tr>\n",
       "      <th>6</th>\n",
       "      <td>2019-07-01 00:06:00</td>\n",
       "      <td>10735.78</td>\n",
       "      <td>10787.36</td>\n",
       "      <td>10719.00</td>\n",
       "      <td>10778.28</td>\n",
       "      <td>2.702564e+06</td>\n",
       "    </tr>\n",
       "    <tr>\n",
       "      <th>7</th>\n",
       "      <td>2019-07-01 00:07:00</td>\n",
       "      <td>10776.06</td>\n",
       "      <td>10840.00</td>\n",
       "      <td>10770.59</td>\n",
       "      <td>10830.20</td>\n",
       "      <td>1.606807e+06</td>\n",
       "    </tr>\n",
       "    <tr>\n",
       "      <th>8</th>\n",
       "      <td>2019-07-01 00:08:00</td>\n",
       "      <td>10825.82</td>\n",
       "      <td>10850.01</td>\n",
       "      <td>10805.70</td>\n",
       "      <td>10831.59</td>\n",
       "      <td>1.361710e+06</td>\n",
       "    </tr>\n",
       "    <tr>\n",
       "      <th>9</th>\n",
       "      <td>2019-07-01 00:09:00</td>\n",
       "      <td>10829.84</td>\n",
       "      <td>10870.00</td>\n",
       "      <td>10829.73</td>\n",
       "      <td>10862.75</td>\n",
       "      <td>1.045778e+06</td>\n",
       "    </tr>\n",
       "    <tr>\n",
       "      <th>10</th>\n",
       "      <td>2019-07-01 00:10:00</td>\n",
       "      <td>10858.68</td>\n",
       "      <td>10863.00</td>\n",
       "      <td>10815.01</td>\n",
       "      <td>10834.93</td>\n",
       "      <td>1.394856e+06</td>\n",
       "    </tr>\n",
       "    <tr>\n",
       "      <th>11</th>\n",
       "      <td>2019-07-01 00:11:00</td>\n",
       "      <td>10834.73</td>\n",
       "      <td>10847.05</td>\n",
       "      <td>10812.17</td>\n",
       "      <td>10840.00</td>\n",
       "      <td>5.408300e+05</td>\n",
       "    </tr>\n",
       "    <tr>\n",
       "      <th>12</th>\n",
       "      <td>2019-07-01 00:12:00</td>\n",
       "      <td>10841.06</td>\n",
       "      <td>10956.44</td>\n",
       "      <td>10840.00</td>\n",
       "      <td>10942.09</td>\n",
       "      <td>2.212024e+06</td>\n",
       "    </tr>\n",
       "    <tr>\n",
       "      <th>13</th>\n",
       "      <td>2019-07-01 00:13:00</td>\n",
       "      <td>10942.08</td>\n",
       "      <td>10984.32</td>\n",
       "      <td>10892.27</td>\n",
       "      <td>10970.89</td>\n",
       "      <td>3.090581e+06</td>\n",
       "    </tr>\n",
       "    <tr>\n",
       "      <th>14</th>\n",
       "      <td>2019-07-01 00:14:00</td>\n",
       "      <td>10971.78</td>\n",
       "      <td>11047.01</td>\n",
       "      <td>10960.12</td>\n",
       "      <td>11003.39</td>\n",
       "      <td>2.609168e+06</td>\n",
       "    </tr>\n",
       "    <tr>\n",
       "      <th>15</th>\n",
       "      <td>2019-07-01 00:15:00</td>\n",
       "      <td>11003.43</td>\n",
       "      <td>11035.36</td>\n",
       "      <td>10978.01</td>\n",
       "      <td>10992.50</td>\n",
       "      <td>1.935913e+06</td>\n",
       "    </tr>\n",
       "    <tr>\n",
       "      <th>16</th>\n",
       "      <td>2019-07-01 00:16:00</td>\n",
       "      <td>10993.95</td>\n",
       "      <td>11035.00</td>\n",
       "      <td>10978.80</td>\n",
       "      <td>10992.92</td>\n",
       "      <td>1.749922e+06</td>\n",
       "    </tr>\n",
       "    <tr>\n",
       "      <th>17</th>\n",
       "      <td>2019-07-01 00:17:00</td>\n",
       "      <td>10987.76</td>\n",
       "      <td>11019.65</td>\n",
       "      <td>10958.16</td>\n",
       "      <td>10976.35</td>\n",
       "      <td>9.279141e+05</td>\n",
       "    </tr>\n",
       "    <tr>\n",
       "      <th>18</th>\n",
       "      <td>2019-07-01 00:18:00</td>\n",
       "      <td>10976.64</td>\n",
       "      <td>10995.00</td>\n",
       "      <td>10951.75</td>\n",
       "      <td>10992.50</td>\n",
       "      <td>9.635395e+05</td>\n",
       "    </tr>\n",
       "    <tr>\n",
       "      <th>19</th>\n",
       "      <td>2019-07-01 00:19:00</td>\n",
       "      <td>10992.68</td>\n",
       "      <td>11010.00</td>\n",
       "      <td>10970.35</td>\n",
       "      <td>10998.14</td>\n",
       "      <td>8.109871e+05</td>\n",
       "    </tr>\n",
       "  </tbody>\n",
       "</table>\n",
       "</div>"
      ],
      "text/plain": [
       "                  Time      Open      High       Low     Close        Volume\n",
       "0  2019-07-01 00:00:00  10854.10  10883.19  10840.10  10876.07  1.496492e+06\n",
       "1  2019-07-01 00:01:00  10877.24  10885.57  10853.20  10881.44  1.099121e+06\n",
       "2  2019-07-01 00:02:00  10880.16  10880.17  10835.00  10835.00  1.574824e+06\n",
       "3  2019-07-01 00:03:00  10835.02  10840.00  10811.99  10828.56  1.719258e+06\n",
       "4  2019-07-01 00:04:00  10826.60  10827.97  10775.00  10812.51  1.394439e+06\n",
       "5  2019-07-01 00:05:00  10812.51  10826.74  10736.05  10736.05  2.634270e+06\n",
       "6  2019-07-01 00:06:00  10735.78  10787.36  10719.00  10778.28  2.702564e+06\n",
       "7  2019-07-01 00:07:00  10776.06  10840.00  10770.59  10830.20  1.606807e+06\n",
       "8  2019-07-01 00:08:00  10825.82  10850.01  10805.70  10831.59  1.361710e+06\n",
       "9  2019-07-01 00:09:00  10829.84  10870.00  10829.73  10862.75  1.045778e+06\n",
       "10 2019-07-01 00:10:00  10858.68  10863.00  10815.01  10834.93  1.394856e+06\n",
       "11 2019-07-01 00:11:00  10834.73  10847.05  10812.17  10840.00  5.408300e+05\n",
       "12 2019-07-01 00:12:00  10841.06  10956.44  10840.00  10942.09  2.212024e+06\n",
       "13 2019-07-01 00:13:00  10942.08  10984.32  10892.27  10970.89  3.090581e+06\n",
       "14 2019-07-01 00:14:00  10971.78  11047.01  10960.12  11003.39  2.609168e+06\n",
       "15 2019-07-01 00:15:00  11003.43  11035.36  10978.01  10992.50  1.935913e+06\n",
       "16 2019-07-01 00:16:00  10993.95  11035.00  10978.80  10992.92  1.749922e+06\n",
       "17 2019-07-01 00:17:00  10987.76  11019.65  10958.16  10976.35  9.279141e+05\n",
       "18 2019-07-01 00:18:00  10976.64  10995.00  10951.75  10992.50  9.635395e+05\n",
       "19 2019-07-01 00:19:00  10992.68  11010.00  10970.35  10998.14  8.109871e+05"
      ]
     },
     "execution_count": 26,
     "metadata": {},
     "output_type": "execute_result"
    }
   ],
   "source": [
    "price_df.head(20)"
   ]
  },
  {
   "cell_type": "code",
   "execution_count": 27,
   "metadata": {
    "scrolled": true
   },
   "outputs": [
    {
     "data": {
      "text/html": [
       "<div>\n",
       "<style scoped>\n",
       "    .dataframe tbody tr th:only-of-type {\n",
       "        vertical-align: middle;\n",
       "    }\n",
       "\n",
       "    .dataframe tbody tr th {\n",
       "        vertical-align: top;\n",
       "    }\n",
       "\n",
       "    .dataframe thead th {\n",
       "        text-align: right;\n",
       "    }\n",
       "</style>\n",
       "<table border=\"1\" class=\"dataframe\">\n",
       "  <thead>\n",
       "    <tr style=\"text-align: right;\">\n",
       "      <th></th>\n",
       "      <th>Time</th>\n",
       "      <th>Open</th>\n",
       "      <th>High</th>\n",
       "      <th>Low</th>\n",
       "      <th>Close</th>\n",
       "      <th>Volume</th>\n",
       "    </tr>\n",
       "  </thead>\n",
       "  <tbody>\n",
       "    <tr>\n",
       "      <th>0</th>\n",
       "      <td>2019-07-01 00:10:00</td>\n",
       "      <td>10854.10</td>\n",
       "      <td>10885.57</td>\n",
       "      <td>10719.00</td>\n",
       "      <td>10862.75</td>\n",
       "      <td>1.663526e+07</td>\n",
       "    </tr>\n",
       "    <tr>\n",
       "      <th>1</th>\n",
       "      <td>2019-07-01 00:20:00</td>\n",
       "      <td>10858.68</td>\n",
       "      <td>11047.01</td>\n",
       "      <td>10812.17</td>\n",
       "      <td>10998.14</td>\n",
       "      <td>1.623573e+07</td>\n",
       "    </tr>\n",
       "  </tbody>\n",
       "</table>\n",
       "</div>"
      ],
      "text/plain": [
       "                 Time      Open      High       Low     Close        Volume\n",
       "0 2019-07-01 00:10:00  10854.10  10885.57  10719.00  10862.75  1.663526e+07\n",
       "1 2019-07-01 00:20:00  10858.68  11047.01  10812.17  10998.14  1.623573e+07"
      ]
     },
     "execution_count": 27,
     "metadata": {},
     "output_type": "execute_result"
    }
   ],
   "source": [
    "get_price('BTC', duration='10Min').head(2) #uses the next 10 mins. Manually verifying that"
   ]
  },
  {
   "cell_type": "code",
   "execution_count": 28,
   "metadata": {},
   "outputs": [],
   "source": [
    "## VERIFIED TIME ##"
   ]
  },
  {
   "cell_type": "code",
   "execution_count": 29,
   "metadata": {},
   "outputs": [],
   "source": [
    "price_df = get_price('BTC')\n",
    "tweet_df = df[df['keyword'] == coin_name].drop('keyword', axis=1).reset_index(drop=True)\n",
    "\n",
    "curr_start = df.iloc[0]['Time']\n",
    "curr_end = df.iloc[-1]['Time']"
   ]
  },
  {
   "cell_type": "code",
   "execution_count": 30,
   "metadata": {},
   "outputs": [],
   "source": [
    "features = get_features(tweet_df, price_df, coin_name, curr_start, curr_end) #verified"
   ]
  },
  {
   "cell_type": "code",
   "execution_count": 31,
   "metadata": {},
   "outputs": [],
   "source": [
    "#Now verify cerebro"
   ]
  },
  {
   "cell_type": "code",
   "execution_count": 32,
   "metadata": {},
   "outputs": [],
   "source": [
    "from features import perform_backtest"
   ]
  },
  {
   "cell_type": "code",
   "execution_count": 33,
   "metadata": {},
   "outputs": [
    {
     "name": "stderr",
     "output_type": "stream",
     "text": [
      "/home/warproxxx/Desktop/Projects/crypto-analysis-live/algorithm/features.py:277: FutureWarning:\n",
      "\n",
      "using a dict with renaming is deprecated and will be removed in a future version\n",
      "\n"
     ]
    },
    {
     "data": {
      "text/html": [
       "<style>\n",
       "    body {\n",
       "        background-color: white;\n",
       "        color: #222222;\n",
       "    }\n",
       "\n",
       "    #headline {\n",
       "        font-size: 200%;\n",
       "        font-family: \"Segoe UI\", \"Arial Black\", Gadget, sans-serif;\n",
       "        color: #333333;\n",
       "    }\n",
       "\n",
       "    .bk-root {\n",
       "        font-family: \"Segoe UI\", \"Arial Black\", Gadget, sans-serif;\n",
       "    }\n",
       "    .bk-toolbar {position: fixed;}\n",
       "\n",
       "    .slick-header-column {\n",
       "        background-color: #cccccc !important;\n",
       "        background-image: none !important;\n",
       "        font-size: 130%;\n",
       "    }\n",
       "\n",
       "    .slick-row.even {\n",
       "        background-color: #fefefefe !important;\n",
       "    }\n",
       "\n",
       "    .slick-row.odd {\n",
       "        background-color: #eeeeee !important;\n",
       "    }\n",
       "\n",
       "    .bk-root .bk-bs-nav-tabs>li.bk-bs-active>span {\n",
       "        background-color: #dddddd !important;\n",
       "        color: #111111 !important;\n",
       "        border-color: #dddddd !important;\n",
       "    }\n",
       "\n",
       "    .bk-root .bk-bs-nav>li>span:hover {\n",
       "        background-color: #dddddd !important;\n",
       "        border-color: #dddddd !important;\n",
       "        color: #111111 !important;\n",
       "    }\n",
       "\n",
       "    .bk-tooltip {\n",
       "        border-radius: 3px;\n",
       "        background-color: #f5f5f5 !important;\n",
       "        border-color: #f5f5f5 !important;\n",
       "    }\n",
       "\n",
       "    .bk-tooltip-row-label {\n",
       "        color: #848EFF !important;\n",
       "    }\n",
       "\n",
       "    .bk-tooltip-row-value {\n",
       "        color: #aaaaaa !important;\n",
       "    }\n",
       "</style>"
      ],
      "text/plain": [
       "<IPython.core.display.HTML object>"
      ]
     },
     "metadata": {},
     "output_type": "display_data"
    },
    {
     "data": {
      "text/html": [
       "\n",
       "\n",
       "\n",
       "\n",
       "\n",
       "\n",
       "  <div class=\"bk-root\" id=\"7bea2412-ed1d-4639-a7f7-59477ba5424c\" data-root-id=\"1439\"></div>\n"
      ]
     },
     "metadata": {},
     "output_type": "display_data"
    },
    {
     "data": {
      "application/javascript": [
       "(function(root) {\n",
       "  function embed_document(root) {\n",
       "    \n",
       "  var docs_json = {\"c5b47f33-17a7-4b0d-8362-f0b16b39a234\":{\"roots\":{\"references\":[{\"attributes\":{\"callback\":null,\"tabs\":[{\"id\":\"1266\",\"type\":\"Panel\"},{\"id\":\"1291\",\"type\":\"Panel\"},{\"id\":\"1438\",\"type\":\"Panel\"}]},\"id\":\"1439\",\"type\":\"Tabs\"},{\"attributes\":{\"children\":[{\"id\":\"1360\",\"type\":\"DataTable\"}],\"height\":100,\"width\":930},\"id\":\"1426\",\"type\":\"WidgetBox\"},{\"attributes\":{\"source\":{\"id\":\"1002\",\"type\":\"ColumnDataSource\"}},\"id\":\"1048\",\"type\":\"CDSView\"},{\"attributes\":{},\"id\":\"1501\",\"type\":\"StringEditor\"},{\"attributes\":{},\"id\":\"1492\",\"type\":\"StringEditor\"},{\"attributes\":{\"style\":{\"font-size\":\"large\"},\"text\":\"Transaction Analyzer\",\"width\":930},\"id\":\"1419\",\"type\":\"Paragraph\"},{\"attributes\":{\"callback\":null,\"end\":12056.5,\"start\":11198.5},\"id\":\"1006\",\"type\":\"DataRange1d\"},{\"attributes\":{},\"id\":\"1112\",\"type\":\"LinearScale\"},{\"attributes\":{\"source\":{\"id\":\"1002\",\"type\":\"ColumnDataSource\"}},\"id\":\"1053\",\"type\":\"CDSView\"},{\"attributes\":{},\"id\":\"1187\",\"type\":\"BasicTicker\"},{\"attributes\":{\"editor\":{\"id\":\"1499\",\"type\":\"StringEditor\"},\"field\":\"col2\",\"formatter\":{\"id\":\"1408\",\"type\":\"NumberFormatter\"},\"title\":\"Min\"},\"id\":\"1409\",\"type\":\"TableColumn\"},{\"attributes\":{\"format\":\"0,0.000\"},\"id\":\"1366\",\"type\":\"NumberFormatter\"},{\"attributes\":{\"format\":\"0,0.000\"},\"id\":\"1369\",\"type\":\"NumberFormatter\"},{\"attributes\":{},\"id\":\"1493\",\"type\":\"StringEditor\"},{\"attributes\":{\"callback\":null,\"end\":21402.53589335628,\"start\":-1387.818427446636},\"id\":\"1110\",\"type\":\"DataRange1d\"},{\"attributes\":{\"grid_line_color\":{\"value\":\"#eeeeee\"},\"plot\":{\"id\":\"1177\",\"subtype\":\"Figure\",\"type\":\"Plot\"},\"ticker\":{\"id\":\"1187\",\"type\":\"BasicTicker\"}},\"id\":\"1190\",\"type\":\"Grid\"},{\"attributes\":{\"callback\":null,\"data\":{\"col0\":[\"Number of Trades\"],\"col1\":[2],\"col2\":[0],\"col3\":[2]},\"selected\":{\"id\":\"1469\",\"type\":\"Selection\"},\"selection_policy\":{\"id\":\"1468\",\"type\":\"UnionRenderers\"}},\"id\":\"1335\",\"type\":\"ColumnDataSource\"},{\"attributes\":{\"editor\":{\"id\":\"1500\",\"type\":\"StringEditor\"},\"field\":\"col3\",\"formatter\":{\"id\":\"1411\",\"type\":\"NumberFormatter\"},\"title\":\"Max\"},\"id\":\"1412\",\"type\":\"TableColumn\"},{\"attributes\":{\"callback\":null},\"id\":\"1004\",\"type\":\"DataRange1d\"},{\"attributes\":{\"editor\":{\"id\":\"1472\",\"type\":\"StringEditor\"},\"field\":\"col2\",\"formatter\":{\"id\":\"1342\",\"type\":\"NumberFormatter\"},\"title\":\"Open\"},\"id\":\"1343\",\"type\":\"TableColumn\"},{\"attributes\":{\"editor\":{\"id\":\"1473\",\"type\":\"StringEditor\"},\"field\":\"col3\",\"formatter\":{\"id\":\"1345\",\"type\":\"NumberFormatter\"},\"title\":\"Closed\"},\"id\":\"1346\",\"type\":\"TableColumn\"},{\"attributes\":{\"days\":[\"%d %b\",\"%a %d\"],\"months\":[\"%m/%Y\",\"%b %y\"]},\"id\":\"1209\",\"type\":\"DatetimeTickFormatter\"},{\"attributes\":{\"children\":[{\"id\":\"1332\",\"type\":\"DataTable\"}],\"height\":150,\"width\":930},\"id\":\"1435\",\"type\":\"WidgetBox\"},{\"attributes\":{\"label\":{\"value\":\"BuySell (True, 0.015) buy\"},\"renderers\":[{\"id\":\"1080\",\"type\":\"GlyphRenderer\"}]},\"id\":\"1091\",\"type\":\"LegendItem\"},{\"attributes\":{},\"id\":\"1470\",\"type\":\"StringEditor\"},{\"attributes\":{\"children\":[{\"id\":\"1322\",\"type\":\"DataTable\"}],\"height\":125,\"width\":930},\"id\":\"1423\",\"type\":\"WidgetBox\"},{\"attributes\":{\"plot\":null,\"text\":\"<NoName> / BuySell (True, 0.015)tradeStrategy []\",\"text_color\":{\"value\":\"#333333\"}},\"id\":\"1033\",\"type\":\"Title\"},{\"attributes\":{\"editor\":{\"id\":\"1482\",\"type\":\"StringEditor\"},\"field\":\"col1\",\"formatter\":{\"id\":\"1366\",\"type\":\"NumberFormatter\"},\"title\":\"Total\"},\"id\":\"1367\",\"type\":\"TableColumn\"},{\"attributes\":{},\"id\":\"1025\",\"type\":\"ResetTool\"},{\"attributes\":{\"columns\":[{\"id\":\"1376\",\"type\":\"TableColumn\"},{\"id\":\"1379\",\"type\":\"TableColumn\"},{\"id\":\"1382\",\"type\":\"TableColumn\"}],\"height\":75,\"index_position\":null,\"source\":{\"id\":\"1374\",\"type\":\"ColumnDataSource\"},\"view\":{\"id\":\"1385\",\"type\":\"CDSView\"},\"width\":930},\"id\":\"1384\",\"type\":\"DataTable\"},{\"attributes\":{\"axis_line_color\":{\"value\":\"#222222\"},\"formatter\":{\"id\":\"1208\",\"type\":\"BasicTickFormatter\"},\"major_label_text_color\":{\"value\":\"#333333\"},\"major_tick_line_color\":{\"value\":\"#222222\"},\"minor_tick_line_color\":{\"value\":\"#222222\"},\"plot\":{\"id\":\"1177\",\"subtype\":\"Figure\",\"type\":\"Plot\"},\"ticker\":{\"id\":\"1192\",\"type\":\"BasicTicker\"}},\"id\":\"1191\",\"type\":\"LinearAxis\"},{\"attributes\":{},\"id\":\"1471\",\"type\":\"StringEditor\"},{\"attributes\":{},\"id\":\"1339\",\"type\":\"NumberFormatter\"},{\"attributes\":{},\"id\":\"1503\",\"type\":\"Selection\"},{\"attributes\":{\"callback\":null,\"data\":{\"col0\":[\"rtot\",\"ravg\",\"rnorm\",\"rnorm100\"],\"col1\":[0.01873734511055217,0.00624578170351739,3.825609216397809,382.56092163978093]},\"selected\":{\"id\":\"1507\",\"type\":\"Selection\"},\"selection_policy\":{\"id\":\"1506\",\"type\":\"UnionRenderers\"}},\"id\":\"1325\",\"type\":\"ColumnDataSource\"},{\"attributes\":{\"bottom\":{\"field\":\"139963905440656close\"},\"fill_color\":{\"field\":\"139963905440656colors_bars\"},\"line_color\":{\"field\":\"139963905440656colors_outline\"},\"top\":{\"field\":\"139963905440656open\"},\"width\":{\"value\":0.5},\"x\":{\"field\":\"index\"}},\"id\":\"1050\",\"type\":\"VBar\"},{\"attributes\":{},\"id\":\"1387\",\"type\":\"StringFormatter\"},{\"attributes\":{\"columns\":[{\"id\":\"1337\",\"type\":\"TableColumn\"},{\"id\":\"1340\",\"type\":\"TableColumn\"},{\"id\":\"1343\",\"type\":\"TableColumn\"},{\"id\":\"1346\",\"type\":\"TableColumn\"}],\"height\":75,\"index_position\":null,\"source\":{\"id\":\"1335\",\"type\":\"ColumnDataSource\"},\"view\":{\"id\":\"1349\",\"type\":\"CDSView\"},\"width\":930},\"id\":\"1348\",\"type\":\"DataTable\"},{\"attributes\":{\"grid_line_color\":{\"value\":\"#eeeeee\"},\"plot\":{\"id\":\"1107\",\"subtype\":\"Figure\",\"type\":\"Plot\"},\"ticker\":{\"id\":\"1117\",\"type\":\"BasicTicker\"}},\"id\":\"1120\",\"type\":\"Grid\"},{\"attributes\":{\"editor\":{\"id\":\"1491\",\"type\":\"StringEditor\"},\"field\":\"col0\",\"formatter\":{\"id\":\"1387\",\"type\":\"StringFormatter\"},\"title\":\"Trades\"},\"id\":\"1388\",\"type\":\"TableColumn\"},{\"attributes\":{\"editor\":{\"id\":\"1487\",\"type\":\"StringEditor\"},\"field\":\"col1\",\"formatter\":{\"id\":\"1378\",\"type\":\"NumberFormatter\"},\"title\":\"Gross\"},\"id\":\"1379\",\"type\":\"TableColumn\"},{\"attributes\":{},\"id\":\"1336\",\"type\":\"StringFormatter\"},{\"attributes\":{},\"id\":\"1472\",\"type\":\"StringEditor\"},{\"attributes\":{\"columns\":[{\"id\":\"1352\",\"type\":\"TableColumn\"},{\"id\":\"1355\",\"type\":\"TableColumn\"},{\"id\":\"1358\",\"type\":\"TableColumn\"}],\"height\":100,\"index_position\":null,\"source\":{\"id\":\"1350\",\"type\":\"ColumnDataSource\"},\"view\":{\"id\":\"1361\",\"type\":\"CDSView\"},\"width\":930},\"id\":\"1360\",\"type\":\"DataTable\"},{\"attributes\":{\"fill_alpha\":{\"value\":0.1},\"fill_color\":{\"value\":\"#1f77b4\"},\"line_alpha\":{\"value\":0.1},\"line_color\":{\"value\":\"#1f77b4\"},\"top\":{\"field\":\"139963905440656volume\"},\"width\":{\"value\":0.5},\"x\":{\"field\":\"index\"}},\"id\":\"1060\",\"type\":\"VBar\"},{\"attributes\":{},\"id\":\"1502\",\"type\":\"UnionRenderers\"},{\"attributes\":{\"children\":[{\"id\":\"1420\",\"type\":\"WidgetBox\"},{\"id\":\"1421\",\"type\":\"WidgetBox\"},{\"id\":\"1422\",\"type\":\"WidgetBox\"},{\"id\":\"1423\",\"type\":\"WidgetBox\"},{\"id\":\"1424\",\"type\":\"WidgetBox\"},{\"id\":\"1425\",\"type\":\"WidgetBox\"},{\"id\":\"1426\",\"type\":\"WidgetBox\"},{\"id\":\"1427\",\"type\":\"WidgetBox\"},{\"id\":\"1428\",\"type\":\"WidgetBox\"},{\"id\":\"1429\",\"type\":\"WidgetBox\"},{\"id\":\"1430\",\"type\":\"WidgetBox\"}]},\"id\":\"1431\",\"type\":\"Column\"},{\"attributes\":{\"source\":{\"id\":\"1350\",\"type\":\"ColumnDataSource\"}},\"id\":\"1361\",\"type\":\"CDSView\"},{\"attributes\":{\"editor\":{\"id\":\"1483\",\"type\":\"StringEditor\"},\"field\":\"col2\",\"formatter\":{\"id\":\"1369\",\"type\":\"NumberFormatter\"},\"title\":\"Average\"},\"id\":\"1370\",\"type\":\"TableColumn\"},{\"attributes\":{\"bottom\":{\"field\":\"139963905440656close\"},\"fill_alpha\":{\"value\":0.1},\"fill_color\":{\"value\":\"#1f77b4\"},\"line_alpha\":{\"value\":0.1},\"line_color\":{\"value\":\"#1f77b4\"},\"top\":{\"field\":\"139963905440656open\"},\"width\":{\"value\":0.5},\"x\":{\"field\":\"index\"}},\"id\":\"1051\",\"type\":\"VBar\"},{\"attributes\":{\"days\":[\"%d %b\",\"%a %d\"],\"months\":[\"%m/%Y\",\"%b %y\"]},\"id\":\"1035\",\"type\":\"DatetimeTickFormatter\"},{\"attributes\":{\"columns\":[{\"id\":\"1327\",\"type\":\"TableColumn\"},{\"id\":\"1330\",\"type\":\"TableColumn\"}],\"height\":150,\"index_position\":null,\"source\":{\"id\":\"1325\",\"type\":\"ColumnDataSource\"},\"view\":{\"id\":\"1333\",\"type\":\"CDSView\"},\"width\":930},\"id\":\"1332\",\"type\":\"DataTable\"},{\"attributes\":{\"dimension\":1,\"grid_line_color\":{\"value\":\"#eeeeee\"},\"plot\":{\"id\":\"1177\",\"subtype\":\"Figure\",\"type\":\"Plot\"},\"ticker\":{\"id\":\"1192\",\"type\":\"BasicTicker\"}},\"id\":\"1195\",\"type\":\"Grid\"},{\"attributes\":{\"overlay\":{\"id\":\"1202\",\"type\":\"BoxAnnotation\"}},\"id\":\"1198\",\"type\":\"BoxZoomTool\"},{\"attributes\":{\"data_source\":{\"id\":\"1002\",\"type\":\"ColumnDataSource\"},\"glyph\":{\"id\":\"1050\",\"type\":\"VBar\"},\"hover_glyph\":null,\"muted_glyph\":null,\"nonselection_glyph\":{\"id\":\"1051\",\"type\":\"VBar\"},\"selection_glyph\":null,\"view\":{\"id\":\"1053\",\"type\":\"CDSView\"}},\"id\":\"1052\",\"type\":\"GlyphRenderer\"},{\"attributes\":{\"axis_line_color\":{\"value\":\"#222222\"},\"formatter\":{\"id\":\"1140\",\"type\":\"FuncTickFormatter\"},\"major_label_text_color\":{\"value\":\"#333333\"},\"major_tick_line_color\":{\"value\":\"#222222\"},\"minor_tick_line_color\":{\"value\":\"#222222\"},\"plot\":{\"id\":\"1107\",\"subtype\":\"Figure\",\"type\":\"Plot\"},\"ticker\":{\"id\":\"1117\",\"type\":\"BasicTicker\"}},\"id\":\"1116\",\"type\":\"LinearAxis\"},{\"attributes\":{},\"id\":\"1494\",\"type\":\"StringEditor\"},{\"attributes\":{\"children\":[{\"id\":\"1399\",\"type\":\"DataTable\"}],\"height\":125,\"width\":930},\"id\":\"1429\",\"type\":\"WidgetBox\"},{\"attributes\":{\"active_drag\":\"auto\",\"active_inspect\":\"auto\",\"active_multi\":null,\"active_scroll\":\"auto\",\"active_tap\":\"auto\",\"tools\":[{\"id\":\"1022\",\"type\":\"PanTool\"},{\"id\":\"1023\",\"type\":\"WheelZoomTool\"},{\"id\":\"1024\",\"type\":\"BoxZoomTool\"},{\"id\":\"1025\",\"type\":\"ResetTool\"},{\"id\":\"1038\",\"type\":\"CrosshairTool\"},{\"id\":\"1040\",\"type\":\"HoverTool\"}]},\"id\":\"1026\",\"type\":\"Toolbar\"},{\"attributes\":{},\"id\":\"1345\",\"type\":\"NumberFormatter\"},{\"attributes\":{\"callback\":null,\"data\":{\"col0\":[\"Longest\"],\"col1\":[1],\"col2\":[1]},\"selected\":{\"id\":\"1485\",\"type\":\"Selection\"},\"selection_policy\":{\"id\":\"1484\",\"type\":\"UnionRenderers\"}},\"id\":\"1374\",\"type\":\"ColumnDataSource\"},{\"attributes\":{\"use_scientific\":false},\"id\":\"1034\",\"type\":\"BasicTickFormatter\"},{\"attributes\":{},\"id\":\"1192\",\"type\":\"BasicTicker\"},{\"attributes\":{},\"id\":\"1473\",\"type\":\"StringEditor\"},{\"attributes\":{\"children\":[{\"id\":\"1299\",\"type\":\"DataTable\"}],\"height\":75,\"width\":930},\"id\":\"1433\",\"type\":\"WidgetBox\"},{\"attributes\":{\"line_color\":\"#000000\"},\"id\":\"1038\",\"type\":\"CrosshairTool\"},{\"attributes\":{},\"id\":\"1114\",\"type\":\"LinearScale\"},{\"attributes\":{\"use_scientific\":false},\"id\":\"1208\",\"type\":\"BasicTickFormatter\"},{\"attributes\":{\"children\":[{\"id\":\"1334\",\"type\":\"Paragraph\"}],\"width\":930},\"id\":\"1434\",\"type\":\"WidgetBox\"},{\"attributes\":{},\"id\":\"1196\",\"type\":\"PanTool\"},{\"attributes\":{\"data_source\":{\"id\":\"1002\",\"type\":\"ColumnDataSource\"},\"glyph\":{\"id\":\"1059\",\"type\":\"VBar\"},\"hover_glyph\":null,\"muted_glyph\":null,\"name\":\"Volume\",\"nonselection_glyph\":{\"id\":\"1060\",\"type\":\"VBar\"},\"selection_glyph\":null,\"view\":{\"id\":\"1062\",\"type\":\"CDSView\"},\"y_range_name\":\"axvol\"},\"id\":\"1061\",\"type\":\"GlyphRenderer\"},{\"attributes\":{\"source\":{\"id\":\"1335\",\"type\":\"ColumnDataSource\"}},\"id\":\"1349\",\"type\":\"CDSView\"},{\"attributes\":{\"source\":{\"id\":\"1362\",\"type\":\"ColumnDataSource\"}},\"id\":\"1373\",\"type\":\"CDSView\"},{\"attributes\":{},\"id\":\"1117\",\"type\":\"BasicTicker\"},{\"attributes\":{},\"id\":\"1495\",\"type\":\"UnionRenderers\"},{\"attributes\":{\"children\":[{\"id\":\"1348\",\"type\":\"DataTable\"}],\"height\":75,\"width\":930},\"id\":\"1425\",\"type\":\"WidgetBox\"},{\"attributes\":{\"callback\":null,\"end\":188468164.77967602,\"start\":-2732844.690849023},\"id\":\"1055\",\"type\":\"DataRange1d\"},{\"attributes\":{},\"id\":\"1474\",\"type\":\"UnionRenderers\"},{\"attributes\":{\"child\":{\"id\":\"1437\",\"type\":\"Row\"},\"title\":\"Analyzers\"},\"id\":\"1438\",\"type\":\"Panel\"},{\"attributes\":{\"plot\":null,\"text\":\"Broker (None)tradeStrategy []\",\"text_color\":{\"value\":\"#333333\"}},\"id\":\"1137\",\"type\":\"Title\"},{\"attributes\":{\"source\":{\"id\":\"1325\",\"type\":\"ColumnDataSource\"}},\"id\":\"1333\",\"type\":\"CDSView\"},{\"attributes\":{\"line_alpha\":{\"value\":0.1},\"line_color\":{\"value\":\"#1f77b4\"},\"x0\":{\"field\":\"index\"},\"x1\":{\"field\":\"index\"},\"y0\":{\"field\":\"139963905440656high\"},\"y1\":{\"field\":\"139963905440656low\"}},\"id\":\"1046\",\"type\":\"Segment\"},{\"attributes\":{},\"id\":\"1375\",\"type\":\"StringFormatter\"},{\"attributes\":{\"format\":\"0,0.000\"},\"id\":\"1378\",\"type\":\"NumberFormatter\"},{\"attributes\":{\"editor\":{\"id\":\"1477\",\"type\":\"StringEditor\"},\"field\":\"col1\",\"formatter\":{\"id\":\"1354\",\"type\":\"NumberFormatter\"},\"title\":\"Current\"},\"id\":\"1355\",\"type\":\"TableColumn\"},{\"attributes\":{},\"id\":\"1496\",\"type\":\"Selection\"},{\"attributes\":{\"callback\":null,\"data\":{\"col0\":[\"Won\",\"Lost\"],\"col1\":[0,1],\"col2\":[1,1]},\"selected\":{\"id\":\"1475\",\"type\":\"Selection\"},\"selection_policy\":{\"id\":\"1474\",\"type\":\"UnionRenderers\"}},\"id\":\"1350\",\"type\":\"ColumnDataSource\"},{\"attributes\":{\"editor\":{\"id\":\"1486\",\"type\":\"StringEditor\"},\"field\":\"col0\",\"formatter\":{\"id\":\"1375\",\"type\":\"StringFormatter\"},\"title\":\"Long\"},\"id\":\"1376\",\"type\":\"TableColumn\"},{\"attributes\":{\"editor\":{\"id\":\"1508\",\"type\":\"StringEditor\"},\"field\":\"col0\",\"formatter\":{\"id\":\"1326\",\"type\":\"StringFormatter\"},\"title\":\"Performance\"},\"id\":\"1327\",\"type\":\"TableColumn\"},{\"attributes\":{\"fill_color\":{\"value\":\"#00ff00\"},\"line_color\":{\"value\":\"#00ff00\"},\"size\":{\"units\":\"screen\",\"value\":9.6},\"x\":{\"field\":\"index\"},\"y\":{\"field\":\"139963904991376\"}},\"id\":\"1078\",\"type\":\"Triangle\"},{\"attributes\":{\"children\":[{\"id\":\"1432\",\"type\":\"WidgetBox\"},{\"id\":\"1433\",\"type\":\"WidgetBox\"},{\"id\":\"1434\",\"type\":\"WidgetBox\"},{\"id\":\"1435\",\"type\":\"WidgetBox\"}]},\"id\":\"1436\",\"type\":\"Column\"},{\"attributes\":{},\"id\":\"1408\",\"type\":\"NumberFormatter\"},{\"attributes\":{},\"id\":\"1197\",\"type\":\"WheelZoomTool\"},{\"attributes\":{\"editor\":{\"id\":\"1476\",\"type\":\"StringEditor\"},\"field\":\"col0\",\"formatter\":{\"id\":\"1351\",\"type\":\"StringFormatter\"},\"title\":\"Streak\"},\"id\":\"1352\",\"type\":\"TableColumn\"},{\"attributes\":{},\"id\":\"1497\",\"type\":\"StringEditor\"},{\"attributes\":{},\"id\":\"1023\",\"type\":\"WheelZoomTool\"},{\"attributes\":{\"editor\":{\"id\":\"1471\",\"type\":\"StringEditor\"},\"field\":\"col1\",\"formatter\":{\"id\":\"1339\",\"type\":\"NumberFormatter\"},\"title\":\"Total\"},\"id\":\"1340\",\"type\":\"TableColumn\"},{\"attributes\":{\"callback\":null,\"data\":{\"col0\":[\"Long\",\"Short\",\"All\"],\"col1\":[1,1,2],\"col2\":[0,1,1],\"col3\":[1,0,1]},\"selected\":{\"id\":\"1490\",\"type\":\"Selection\"},\"selection_policy\":{\"id\":\"1489\",\"type\":\"UnionRenderers\"}},\"id\":\"1386\",\"type\":\"ColumnDataSource\"},{\"attributes\":{},\"id\":\"1475\",\"type\":\"Selection\"},{\"attributes\":{\"children\":[{\"id\":\"1301\",\"type\":\"Paragraph\"}],\"width\":930},\"id\":\"1432\",\"type\":\"WidgetBox\"},{\"attributes\":{\"axis_line_color\":{\"value\":\"#222222\"},\"formatter\":{\"id\":\"1138\",\"type\":\"BasicTickFormatter\"},\"major_label_text_color\":{\"value\":\"#333333\"},\"major_tick_line_color\":{\"value\":\"#222222\"},\"minor_tick_line_color\":{\"value\":\"#222222\"},\"plot\":{\"id\":\"1107\",\"subtype\":\"Figure\",\"type\":\"Plot\"},\"ticker\":{\"id\":\"1122\",\"type\":\"BasicTicker\"}},\"id\":\"1121\",\"type\":\"LinearAxis\"},{\"attributes\":{},\"id\":\"1351\",\"type\":\"StringFormatter\"},{\"attributes\":{},\"id\":\"1022\",\"type\":\"PanTool\"},{\"attributes\":{\"data_source\":{\"id\":\"1002\",\"type\":\"ColumnDataSource\"},\"glyph\":{\"id\":\"1078\",\"type\":\"Triangle\"},\"hover_glyph\":null,\"muted_glyph\":null,\"name\":\"buy\",\"nonselection_glyph\":{\"id\":\"1079\",\"type\":\"Triangle\"},\"selection_glyph\":null,\"view\":{\"id\":\"1081\",\"type\":\"CDSView\"}},\"id\":\"1080\",\"type\":\"GlyphRenderer\"},{\"attributes\":{\"editor\":{\"id\":\"1488\",\"type\":\"StringEditor\"},\"field\":\"col2\",\"formatter\":{\"id\":\"1381\",\"type\":\"NumberFormatter\"},\"title\":\"Net\"},\"id\":\"1382\",\"type\":\"TableColumn\"},{\"attributes\":{},\"id\":\"1468\",\"type\":\"UnionRenderers\"},{\"attributes\":{},\"id\":\"1342\",\"type\":\"NumberFormatter\"},{\"attributes\":{},\"id\":\"1354\",\"type\":\"NumberFormatter\"},{\"attributes\":{\"children\":[{\"id\":\"1372\",\"type\":\"DataTable\"}],\"height\":250,\"width\":930},\"id\":\"1427\",\"type\":\"WidgetBox\"},{\"attributes\":{},\"id\":\"1199\",\"type\":\"ResetTool\"},{\"attributes\":{\"editor\":{\"id\":\"1470\",\"type\":\"StringEditor\"},\"field\":\"col0\",\"formatter\":{\"id\":\"1336\",\"type\":\"StringFormatter\"},\"title\":\"\"},\"id\":\"1337\",\"type\":\"TableColumn\"},{\"attributes\":{},\"id\":\"1357\",\"type\":\"NumberFormatter\"},{\"attributes\":{},\"id\":\"1498\",\"type\":\"StringEditor\"},{\"attributes\":{\"children\":[{\"id\":\"1419\",\"type\":\"Paragraph\"}],\"width\":930},\"id\":\"1424\",\"type\":\"WidgetBox\"},{\"attributes\":{\"editor\":{\"id\":\"1492\",\"type\":\"StringEditor\"},\"field\":\"col1\",\"formatter\":{\"id\":\"1390\",\"type\":\"NumberFormatter\"},\"title\":\"Total\"},\"id\":\"1391\",\"type\":\"TableColumn\"},{\"attributes\":{\"args\":{\"axis\":{\"id\":\"1012\",\"type\":\"LinearAxis\"},\"formatter\":{\"id\":\"1035\",\"type\":\"DatetimeTickFormatter\"},\"source\":{\"id\":\"1002\",\"type\":\"ColumnDataSource\"}},\"code\":\"\\n                axis.formatter.doFormat = function (ticks) {\\n                    const dates = ticks.map(i => source.data.datetime[i]),\\n                          valid = t => t !== undefined,\\n                          labels = formatter.doFormat(dates.filter(valid));\\n                    let i = 0;\\n                    return dates.map(t => valid(t) ? labels[i++] : '');\\n                };\\n                const axisticks = axis.tick_coords.major[0],\\n                      labels = axis.formatter.doFormat(ticks);\\n                return labels[axisticks.indexOf(tick)];\\n        \"},\"id\":\"1036\",\"type\":\"FuncTickFormatter\"},{\"attributes\":{},\"id\":\"1411\",\"type\":\"NumberFormatter\"},{\"attributes\":{},\"id\":\"1363\",\"type\":\"StringFormatter\"},{\"attributes\":{\"columns\":[{\"id\":\"1364\",\"type\":\"TableColumn\"},{\"id\":\"1367\",\"type\":\"TableColumn\"},{\"id\":\"1370\",\"type\":\"TableColumn\"}],\"height\":250,\"index_position\":null,\"source\":{\"id\":\"1362\",\"type\":\"ColumnDataSource\"},\"view\":{\"id\":\"1373\",\"type\":\"CDSView\"},\"width\":930},\"id\":\"1372\",\"type\":\"DataTable\"},{\"attributes\":{\"fill_alpha\":{\"value\":0.5},\"fill_color\":{\"field\":\"139963905440656volume_colors\"},\"line_alpha\":{\"value\":0.5},\"top\":{\"field\":\"139963905440656volume\"},\"width\":{\"value\":0.5},\"x\":{\"field\":\"index\"}},\"id\":\"1059\",\"type\":\"VBar\"},{\"attributes\":{\"source\":{\"id\":\"1002\",\"type\":\"ColumnDataSource\"}},\"id\":\"1081\",\"type\":\"CDSView\"},{\"attributes\":{\"overlay\":{\"id\":\"1028\",\"type\":\"BoxAnnotation\"}},\"id\":\"1024\",\"type\":\"BoxZoomTool\"},{\"attributes\":{\"columns\":[{\"id\":\"1388\",\"type\":\"TableColumn\"},{\"id\":\"1391\",\"type\":\"TableColumn\"},{\"id\":\"1394\",\"type\":\"TableColumn\"},{\"id\":\"1397\",\"type\":\"TableColumn\"}],\"height\":125,\"index_position\":null,\"source\":{\"id\":\"1386\",\"type\":\"ColumnDataSource\"},\"view\":{\"id\":\"1400\",\"type\":\"CDSView\"},\"width\":930},\"id\":\"1399\",\"type\":\"DataTable\"},{\"attributes\":{},\"id\":\"1476\",\"type\":\"StringEditor\"},{\"attributes\":{\"days\":[\"%d %b\",\"%a %d\"],\"months\":[\"%m/%Y\",\"%b %y\"]},\"id\":\"1139\",\"type\":\"DatetimeTickFormatter\"},{\"attributes\":{\"active_drag\":\"auto\",\"active_inspect\":\"auto\",\"active_multi\":null,\"active_scroll\":\"auto\",\"active_tap\":\"auto\",\"tools\":[{\"id\":\"1196\",\"type\":\"PanTool\"},{\"id\":\"1197\",\"type\":\"WheelZoomTool\"},{\"id\":\"1198\",\"type\":\"BoxZoomTool\"},{\"id\":\"1199\",\"type\":\"ResetTool\"},{\"id\":\"1212\",\"type\":\"CrosshairTool\"},{\"id\":\"1214\",\"type\":\"HoverTool\"}]},\"id\":\"1200\",\"type\":\"Toolbar\"},{\"attributes\":{\"bottom_units\":\"screen\",\"fill_alpha\":{\"value\":0.5},\"fill_color\":{\"value\":\"lightgrey\"},\"left_units\":\"screen\",\"level\":\"overlay\",\"line_alpha\":{\"value\":1.0},\"line_color\":{\"value\":\"black\"},\"line_dash\":[4,4],\"line_width\":{\"value\":2},\"plot\":null,\"render_mode\":\"css\",\"right_units\":\"screen\",\"top_units\":\"screen\"},\"id\":\"1202\",\"type\":\"BoxAnnotation\"},{\"attributes\":{\"format\":\"0,0.000\"},\"id\":\"1054\",\"type\":\"NumeralTickFormatter\"},{\"attributes\":{},\"id\":\"1480\",\"type\":\"Selection\"},{\"attributes\":{},\"id\":\"1390\",\"type\":\"NumberFormatter\"},{\"attributes\":{\"axis_label_text_color\":{\"value\":\"#aaaaaa\"},\"axis_line_color\":{\"value\":\"#aaaaaa\"},\"formatter\":{\"id\":\"1054\",\"type\":\"NumeralTickFormatter\"},\"major_label_text_color\":{\"value\":\"#aaaaaa\"},\"major_tick_line_color\":{\"value\":\"#aaaaaa\"},\"minor_tick_line_color\":{\"value\":\"#aaaaaa\"},\"plot\":{\"id\":\"1003\",\"subtype\":\"Figure\",\"type\":\"Plot\"},\"ticker\":{\"id\":\"1068\",\"type\":\"BasicTicker\"},\"y_range_name\":\"axvol\"},\"id\":\"1056\",\"type\":\"LinearAxis\"},{\"attributes\":{\"editor\":{\"id\":\"1478\",\"type\":\"StringEditor\"},\"field\":\"col2\",\"formatter\":{\"id\":\"1357\",\"type\":\"NumberFormatter\"},\"title\":\"Longest\"},\"id\":\"1358\",\"type\":\"TableColumn\"},{\"attributes\":{},\"id\":\"1477\",\"type\":\"StringEditor\"},{\"attributes\":{},\"id\":\"1499\",\"type\":\"StringEditor\"},{\"attributes\":{\"fill_color\":{\"value\":\"#ff0000\"},\"line_color\":{\"value\":\"#ff0000\"},\"size\":{\"units\":\"screen\",\"value\":9.6},\"x\":{\"field\":\"index\"},\"y\":{\"field\":\"139963904993808\"}},\"id\":\"1093\",\"type\":\"InvertedTriangle\"},{\"attributes\":{\"format\":\"0,0.000\"},\"id\":\"1381\",\"type\":\"NumberFormatter\"},{\"attributes\":{},\"id\":\"1329\",\"type\":\"StringFormatter\"},{\"attributes\":{\"line_color\":{\"field\":\"139963905440656colors_wicks\"},\"x0\":{\"field\":\"index\"},\"x1\":{\"field\":\"index\"},\"y0\":{\"field\":\"139963905440656high\"},\"y1\":{\"field\":\"139963905440656low\"}},\"id\":\"1045\",\"type\":\"Segment\"},{\"attributes\":{},\"id\":\"1326\",\"type\":\"StringFormatter\"},{\"attributes\":{},\"id\":\"1500\",\"type\":\"StringEditor\"},{\"attributes\":{\"label\":{\"value\":\"BuySell (True, 0.015) sell\"},\"renderers\":[{\"id\":\"1095\",\"type\":\"GlyphRenderer\"}]},\"id\":\"1106\",\"type\":\"LegendItem\"},{\"attributes\":{\"children\":[{\"id\":\"1417\",\"type\":\"DataTable\"}],\"height\":250,\"width\":930},\"id\":\"1430\",\"type\":\"WidgetBox\"},{\"attributes\":{\"editor\":{\"id\":\"1481\",\"type\":\"StringEditor\"},\"field\":\"col0\",\"formatter\":{\"id\":\"1363\",\"type\":\"StringFormatter\"},\"title\":\"Profit & Loss\"},\"id\":\"1364\",\"type\":\"TableColumn\"},{\"attributes\":{\"editor\":{\"id\":\"1509\",\"type\":\"StringEditor\"},\"field\":\"col1\",\"formatter\":{\"id\":\"1329\",\"type\":\"StringFormatter\"},\"title\":\"Value\"},\"id\":\"1330\",\"type\":\"TableColumn\"},{\"attributes\":{},\"id\":\"1478\",\"type\":\"StringEditor\"},{\"attributes\":{\"children\":[{\"id\":\"1384\",\"type\":\"DataTable\"}],\"height\":75,\"width\":930},\"id\":\"1428\",\"type\":\"WidgetBox\"},{\"attributes\":{\"data_source\":{\"id\":\"1002\",\"type\":\"ColumnDataSource\"},\"glyph\":{\"id\":\"1045\",\"type\":\"Segment\"},\"hover_glyph\":null,\"muted_glyph\":null,\"nonselection_glyph\":{\"id\":\"1046\",\"type\":\"Segment\"},\"selection_glyph\":null,\"view\":{\"id\":\"1048\",\"type\":\"CDSView\"}},\"id\":\"1047\",\"type\":\"GlyphRenderer\"},{\"attributes\":{\"callback\":null,\"data\":{\"col0\":[\"Gross Profit\",\"Net Profit (w/ Commissions)\",\"Short\",\"Long\",\"Won / Short\",\"Lost / Short\",\"Won / Long\",\"Lost / Long\"],\"col1\":[227.3131983537527,189.1399072652842,281.1724503082354,-92.0325430429512,281.1724503082354,0.0,0.0,-92.0325430429512],\"col2\":[113.65659917687636,94.5699536326421,281.1724503082354,-92.0325430429512,281.1724503082354,0.0,0.0,-92.0325430429512]},\"selected\":{\"id\":\"1480\",\"type\":\"Selection\"},\"selection_policy\":{\"id\":\"1479\",\"type\":\"UnionRenderers\"}},\"id\":\"1362\",\"type\":\"ColumnDataSource\"},{\"attributes\":{\"fill_alpha\":{\"value\":0.1},\"fill_color\":{\"value\":\"#1f77b4\"},\"line_alpha\":{\"value\":0.1},\"line_color\":{\"value\":\"#1f77b4\"},\"size\":{\"units\":\"screen\",\"value\":9.6},\"x\":{\"field\":\"index\"},\"y\":{\"field\":\"139963904991376\"}},\"id\":\"1079\",\"type\":\"Triangle\"},{\"attributes\":{\"background_fill_color\":{\"value\":\"#f5f5f5\"},\"click_policy\":\"hide\",\"items\":[{\"id\":\"1073\",\"type\":\"LegendItem\"},{\"id\":\"1091\",\"type\":\"LegendItem\"},{\"id\":\"1106\",\"type\":\"LegendItem\"}],\"label_text_color\":{\"value\":\"#333333\"},\"plot\":{\"id\":\"1003\",\"subtype\":\"Figure\",\"type\":\"Plot\"}},\"id\":\"1072\",\"type\":\"Legend\"},{\"attributes\":{\"source\":{\"id\":\"1374\",\"type\":\"ColumnDataSource\"}},\"id\":\"1385\",\"type\":\"CDSView\"},{\"attributes\":{},\"id\":\"1070\",\"type\":\"Selection\"},{\"attributes\":{\"style\":{\"font-size\":\"large\"},\"text\":\"Returns\",\"width\":930},\"id\":\"1334\",\"type\":\"Paragraph\"},{\"attributes\":{},\"id\":\"1479\",\"type\":\"UnionRenderers\"},{\"attributes\":{\"callback\":null,\"formatters\":{\"datetime\":\"datetime\"},\"mode\":\"vline\",\"renderers\":[{\"id\":\"1052\",\"type\":\"GlyphRenderer\"}],\"tooltips\":[[\"Time\",\"@datetime{%x %X}\"],[\"Open\",\"@139963905440656open{0,0.000}\"],[\"High\",\"@139963905440656high{0,0.000}\"],[\"Low\",\"@139963905440656low{0,0.000}\"],[\"Close\",\"@139963905440656close{0,0.000}\"],[\"Volume\",\"@139963905440656volume{(0,0.000)}\"],[\"BuySell (True, 0.015) - buy\",\"@139963904991376{0,0.000}\"],[\"BuySell (True, 0.015) - sell\",\"@139963904993808{0,0.000}\"]]},\"id\":\"1040\",\"type\":\"HoverTool\"},{\"attributes\":{\"source\":{\"id\":\"1002\",\"type\":\"ColumnDataSource\"}},\"id\":\"1062\",\"type\":\"CDSView\"},{\"attributes\":{\"child\":{\"id\":\"1265\",\"type\":\"Row\"},\"title\":\"Datas\"},\"id\":\"1266\",\"type\":\"Panel\"},{\"attributes\":{\"axis_line_color\":{\"value\":\"#222222\"},\"formatter\":{\"id\":\"1210\",\"type\":\"FuncTickFormatter\"},\"major_label_text_color\":{\"value\":\"#333333\"},\"major_tick_line_color\":{\"value\":\"#222222\"},\"minor_tick_line_color\":{\"value\":\"#222222\"},\"plot\":{\"id\":\"1177\",\"subtype\":\"Figure\",\"type\":\"Plot\"},\"ticker\":{\"id\":\"1187\",\"type\":\"BasicTicker\"}},\"id\":\"1186\",\"type\":\"LinearAxis\"},{\"attributes\":{},\"id\":\"1018\",\"type\":\"BasicTicker\"},{\"attributes\":{\"args\":{\"axis\":{\"id\":\"1186\",\"type\":\"LinearAxis\"},\"formatter\":{\"id\":\"1209\",\"type\":\"DatetimeTickFormatter\"},\"source\":{\"id\":\"1002\",\"type\":\"ColumnDataSource\"}},\"code\":\"\\n                axis.formatter.doFormat = function (ticks) {\\n                    const dates = ticks.map(i => source.data.datetime[i]),\\n                          valid = t => t !== undefined,\\n                          labels = formatter.doFormat(dates.filter(valid));\\n                    let i = 0;\\n                    return dates.map(t => valid(t) ? labels[i++] : '');\\n                };\\n                const axisticks = axis.tick_coords.major[0],\\n                      labels = axis.formatter.doFormat(ticks);\\n                return labels[axisticks.indexOf(tick)];\\n        \"},\"id\":\"1210\",\"type\":\"FuncTickFormatter\"},{\"attributes\":{},\"id\":\"1008\",\"type\":\"LinearScale\"},{\"attributes\":{\"editor\":{\"id\":\"1494\",\"type\":\"StringEditor\"},\"field\":\"col3\",\"formatter\":{\"id\":\"1396\",\"type\":\"NumberFormatter\"},\"title\":\"Lost\"},\"id\":\"1397\",\"type\":\"TableColumn\"},{\"attributes\":{\"editor\":{\"id\":\"1505\",\"type\":\"StringEditor\"},\"field\":\"col1\",\"formatter\":{\"id\":\"1296\",\"type\":\"NumberFormatter\"},\"title\":\"Value\"},\"id\":\"1297\",\"type\":\"TableColumn\"},{\"attributes\":{\"children\":[{\"id\":\"1289\",\"type\":\"ToolbarBox\"},{\"id\":\"1287\",\"type\":\"Column\"}]},\"id\":\"1290\",\"type\":\"Row\"},{\"attributes\":{},\"id\":\"1396\",\"type\":\"NumberFormatter\"},{\"attributes\":{\"children\":[{\"id\":\"1261\",\"type\":\"Row\"}]},\"id\":\"1262\",\"type\":\"Column\"},{\"attributes\":{\"line_color\":\"#000000\"},\"id\":\"1212\",\"type\":\"CrosshairTool\"},{\"attributes\":{\"format\":\"%c\"},\"id\":\"1303\",\"type\":\"DateFormatter\"},{\"attributes\":{},\"id\":\"1504\",\"type\":\"StringEditor\"},{\"attributes\":{\"children\":[{\"id\":\"1311\",\"type\":\"Paragraph\"}],\"width\":930},\"id\":\"1420\",\"type\":\"WidgetBox\"},{\"attributes\":{\"callback\":null,\"formatters\":{\"datetime\":\"datetime\"},\"mode\":\"vline\",\"renderers\":[{\"id\":\"1151\",\"type\":\"GlyphRenderer\"}],\"tooltips\":[[\"Time\",\"@datetime{%x %X}\"],[\"Open\",\"@139963905440656open{0,0.000}\"],[\"High\",\"@139963905440656high{0,0.000}\"],[\"Low\",\"@139963905440656low{0,0.000}\"],[\"Close\",\"@139963905440656close{0,0.000}\"],[\"Volume\",\"@139963905440656volume{(0,0.000)}\"],[\"BuySell (True, 0.015) - buy\",\"@139963904991376{0,0.000}\"],[\"BuySell (True, 0.015) - sell\",\"@139963904993808{0,0.000}\"],[\"Broker (None) - cash\",\"@139963904990224{0,0.000}\"],[\"Broker (None) - value\",\"@139963904988880{0,0.000}\"]]},\"id\":\"1144\",\"type\":\"HoverTool\"},{\"attributes\":{},\"id\":\"1393\",\"type\":\"NumberFormatter\"},{\"attributes\":{\"children\":[{\"id\":\"1324\",\"type\":\"Paragraph\"}],\"width\":930},\"id\":\"1422\",\"type\":\"WidgetBox\"},{\"attributes\":{\"bottom_units\":\"screen\",\"fill_alpha\":{\"value\":0.5},\"fill_color\":{\"value\":\"lightgrey\"},\"left_units\":\"screen\",\"level\":\"overlay\",\"line_alpha\":{\"value\":1.0},\"line_color\":{\"value\":\"black\"},\"line_dash\":[4,4],\"line_width\":{\"value\":2},\"plot\":null,\"render_mode\":\"css\",\"right_units\":\"screen\",\"top_units\":\"screen\"},\"id\":\"1132\",\"type\":\"BoxAnnotation\"},{\"attributes\":{\"editor\":{\"id\":\"1493\",\"type\":\"StringEditor\"},\"field\":\"col2\",\"formatter\":{\"id\":\"1393\",\"type\":\"NumberFormatter\"},\"title\":\"Won\"},\"id\":\"1394\",\"type\":\"TableColumn\"},{\"attributes\":{},\"id\":\"1481\",\"type\":\"StringEditor\"},{\"attributes\":{\"label\":{\"value\":\"Trades - Net Profit/Loss (True) Negative\"},\"renderers\":[{\"id\":\"1236\",\"type\":\"GlyphRenderer\"}]},\"id\":\"1246\",\"type\":\"LegendItem\"},{\"attributes\":{\"children\":[{\"id\":\"1264\",\"type\":\"ToolbarBox\"},{\"id\":\"1262\",\"type\":\"Column\"}]},\"id\":\"1265\",\"type\":\"Row\"},{\"attributes\":{},\"id\":\"1129\",\"type\":\"ResetTool\"},{\"attributes\":{\"line_color\":{\"value\":\"#a8a8a8\"},\"line_dash\":[6],\"location\":0.0,\"plot\":null},\"id\":\"1247\",\"type\":\"Span\"},{\"attributes\":{\"source\":{\"id\":\"1002\",\"type\":\"ColumnDataSource\"}},\"id\":\"1152\",\"type\":\"CDSView\"},{\"attributes\":{\"toolbar\":{\"id\":\"1263\",\"type\":\"ProxyToolbar\"},\"toolbar_location\":\"left\"},\"id\":\"1264\",\"type\":\"ToolbarBox\"},{\"attributes\":{\"axis_line_color\":{\"value\":\"#222222\"},\"formatter\":{\"id\":\"1034\",\"type\":\"BasicTickFormatter\"},\"major_label_text_color\":{\"value\":\"#333333\"},\"major_tick_line_color\":{\"value\":\"#222222\"},\"minor_tick_line_color\":{\"value\":\"#222222\"},\"plot\":{\"id\":\"1003\",\"subtype\":\"Figure\",\"type\":\"Plot\"},\"ticker\":{\"id\":\"1018\",\"type\":\"BasicTicker\"}},\"id\":\"1017\",\"type\":\"LinearAxis\"},{\"attributes\":{\"data_source\":{\"id\":\"1002\",\"type\":\"ColumnDataSource\"},\"glyph\":{\"id\":\"1149\",\"type\":\"Line\"},\"hover_glyph\":null,\"muted_glyph\":null,\"name\":\"cash\",\"nonselection_glyph\":{\"id\":\"1150\",\"type\":\"Line\"},\"selection_glyph\":null,\"view\":{\"id\":\"1152\",\"type\":\"CDSView\"}},\"id\":\"1151\",\"type\":\"GlyphRenderer\"},{\"attributes\":{\"source\":{\"id\":\"1292\",\"type\":\"ColumnDataSource\"}},\"id\":\"1300\",\"type\":\"CDSView\"},{\"attributes\":{\"editor\":{\"id\":\"1504\",\"type\":\"StringEditor\"},\"field\":\"col0\",\"formatter\":{\"id\":\"1293\",\"type\":\"StringFormatter\"},\"title\":\"Name\"},\"id\":\"1294\",\"type\":\"TableColumn\"},{\"attributes\":{\"data_source\":{\"id\":\"1002\",\"type\":\"ColumnDataSource\"},\"glyph\":{\"id\":\"1093\",\"type\":\"InvertedTriangle\"},\"hover_glyph\":null,\"muted_glyph\":null,\"name\":\"sell\",\"nonselection_glyph\":{\"id\":\"1094\",\"type\":\"InvertedTriangle\"},\"selection_glyph\":null,\"view\":{\"id\":\"1096\",\"type\":\"CDSView\"}},\"id\":\"1095\",\"type\":\"GlyphRenderer\"},{\"attributes\":{\"background_fill_color\":{\"value\":\"#f5f5f5\"},\"click_policy\":\"hide\",\"items\":[{\"id\":\"1162\",\"type\":\"LegendItem\"},{\"id\":\"1176\",\"type\":\"LegendItem\"}],\"label_text_color\":{\"value\":\"#333333\"},\"plot\":{\"id\":\"1107\",\"subtype\":\"Figure\",\"type\":\"Plot\"}},\"id\":\"1161\",\"type\":\"Legend\"},{\"attributes\":{\"editor\":{\"id\":\"1465\",\"type\":\"StringEditor\"},\"field\":\"col0\",\"formatter\":{\"id\":\"1313\",\"type\":\"StringFormatter\"},\"title\":\"Feature\"},\"id\":\"1314\",\"type\":\"TableColumn\"},{\"attributes\":{},\"id\":\"1505\",\"type\":\"StringEditor\"},{\"attributes\":{\"source\":{\"id\":\"1002\",\"type\":\"ColumnDataSource\"}},\"id\":\"1167\",\"type\":\"CDSView\"},{\"attributes\":{},\"id\":\"1464\",\"type\":\"Selection\"},{\"attributes\":{\"children\":[{\"id\":\"1309\",\"type\":\"DataTable\"}],\"height\":75,\"width\":930},\"id\":\"1421\",\"type\":\"WidgetBox\"},{\"attributes\":{\"fill_color\":{\"value\":\"#ff0000\"},\"line_color\":{\"value\":\"#ff0000\"},\"size\":{\"units\":\"screen\",\"value\":9.6},\"x\":{\"field\":\"index\"},\"y\":{\"field\":\"139963904993488\"}},\"id\":\"1234\",\"type\":\"Circle\"},{\"attributes\":{\"children\":[{\"id\":\"1177\",\"subtype\":\"Figure\",\"type\":\"Plot\"}]},\"id\":\"1286\",\"type\":\"Row\"},{\"attributes\":{\"source\":{\"id\":\"1002\",\"type\":\"ColumnDataSource\"}},\"id\":\"1096\",\"type\":\"CDSView\"},{\"attributes\":{},\"id\":\"1489\",\"type\":\"UnionRenderers\"},{\"attributes\":{\"columns\":[{\"id\":\"1304\",\"type\":\"TableColumn\"},{\"id\":\"1307\",\"type\":\"TableColumn\"}],\"height\":75,\"index_position\":null,\"source\":{\"id\":\"1302\",\"type\":\"ColumnDataSource\"},\"view\":{\"id\":\"1310\",\"type\":\"CDSView\"},\"width\":930},\"id\":\"1309\",\"type\":\"DataTable\"},{\"attributes\":{\"active_drag\":\"auto\",\"active_inspect\":\"auto\",\"active_multi\":null,\"active_scroll\":\"auto\",\"active_tap\":\"auto\",\"tools\":[{\"id\":\"1126\",\"type\":\"PanTool\"},{\"id\":\"1127\",\"type\":\"WheelZoomTool\"},{\"id\":\"1128\",\"type\":\"BoxZoomTool\"},{\"id\":\"1129\",\"type\":\"ResetTool\"},{\"id\":\"1142\",\"type\":\"CrosshairTool\"},{\"id\":\"1144\",\"type\":\"HoverTool\"}]},\"id\":\"1130\",\"type\":\"Toolbar\"},{\"attributes\":{\"label\":{\"value\":\"Broker (None) cash\"},\"renderers\":[{\"id\":\"1151\",\"type\":\"GlyphRenderer\"}]},\"id\":\"1162\",\"type\":\"LegendItem\"},{\"attributes\":{},\"id\":\"1506\",\"type\":\"UnionRenderers\"},{\"attributes\":{\"below\":[{\"id\":\"1116\",\"type\":\"LinearAxis\"}],\"left\":[{\"id\":\"1121\",\"type\":\"LinearAxis\"}],\"plot_height\":400,\"plot_width\":1800,\"renderers\":[{\"id\":\"1116\",\"type\":\"LinearAxis\"},{\"id\":\"1120\",\"type\":\"Grid\"},{\"id\":\"1121\",\"type\":\"LinearAxis\"},{\"id\":\"1125\",\"type\":\"Grid\"},{\"id\":\"1132\",\"type\":\"BoxAnnotation\"},{\"id\":\"1161\",\"type\":\"Legend\"},{\"id\":\"1151\",\"type\":\"GlyphRenderer\"},{\"id\":\"1166\",\"type\":\"GlyphRenderer\"}],\"sizing_mode\":\"fixed\",\"title\":{\"id\":\"1137\",\"type\":\"Title\"},\"toolbar\":{\"id\":\"1130\",\"type\":\"Toolbar\"},\"toolbar_location\":null,\"x_range\":{\"id\":\"1004\",\"type\":\"DataRange1d\"},\"x_scale\":{\"id\":\"1112\",\"type\":\"LinearScale\"},\"y_range\":{\"id\":\"1110\",\"type\":\"DataRange1d\"},\"y_scale\":{\"id\":\"1114\",\"type\":\"LinearScale\"}},\"id\":\"1107\",\"subtype\":\"Figure\",\"type\":\"Plot\"},{\"attributes\":{\"style\":{\"font-size\":\"large\"},\"text\":\"Drawdown\",\"width\":930},\"id\":\"1324\",\"type\":\"Paragraph\"},{\"attributes\":{\"label\":{\"value\":\"Broker (None) value\"},\"renderers\":[{\"id\":\"1166\",\"type\":\"GlyphRenderer\"}]},\"id\":\"1176\",\"type\":\"LegendItem\"},{\"attributes\":{},\"id\":\"1490\",\"type\":\"Selection\"},{\"attributes\":{\"style\":{\"font-size\":\"large\"},\"text\":\"Sharpe-Ratio\",\"width\":930},\"id\":\"1301\",\"type\":\"Paragraph\"},{\"attributes\":{\"data_source\":{\"id\":\"1002\",\"type\":\"ColumnDataSource\"},\"glyph\":{\"id\":\"1234\",\"type\":\"Circle\"},\"hover_glyph\":null,\"muted_glyph\":null,\"name\":\"pnlminus\",\"nonselection_glyph\":{\"id\":\"1235\",\"type\":\"Circle\"},\"selection_glyph\":null,\"view\":{\"id\":\"1237\",\"type\":\"CDSView\"}},\"id\":\"1236\",\"type\":\"GlyphRenderer\"},{\"attributes\":{\"editor\":{\"id\":\"1461\",\"type\":\"StringEditor\"},\"field\":\"col0\",\"formatter\":{\"id\":\"1303\",\"type\":\"DateFormatter\"},\"title\":\"DateTime\"},\"id\":\"1304\",\"type\":\"TableColumn\"},{\"attributes\":{\"source\":{\"id\":\"1002\",\"type\":\"ColumnDataSource\"}},\"id\":\"1237\",\"type\":\"CDSView\"},{\"attributes\":{},\"id\":\"1126\",\"type\":\"PanTool\"},{\"attributes\":{},\"id\":\"1013\",\"type\":\"BasicTicker\"},{\"attributes\":{},\"id\":\"1010\",\"type\":\"LinearScale\"},{\"attributes\":{},\"id\":\"1469\",\"type\":\"Selection\"},{\"attributes\":{\"editor\":{\"id\":\"1462\",\"type\":\"StringEditor\"},\"field\":\"col1\",\"formatter\":{\"id\":\"1306\",\"type\":\"NumberFormatter\"},\"title\":\"Value\"},\"id\":\"1307\",\"type\":\"TableColumn\"},{\"attributes\":{\"editor\":{\"id\":\"1501\",\"type\":\"StringEditor\"},\"field\":\"col4\",\"formatter\":{\"id\":\"1414\",\"type\":\"NumberFormatter\"},\"title\":\"Average\"},\"id\":\"1415\",\"type\":\"TableColumn\"},{\"attributes\":{\"use_scientific\":false},\"id\":\"1138\",\"type\":\"BasicTickFormatter\"},{\"attributes\":{\"callback\":null,\"data\":{\"col0\":[\"Sharpe-Ratio\"],\"col1\":[null]},\"selected\":{\"id\":\"1503\",\"type\":\"Selection\"},\"selection_policy\":{\"id\":\"1502\",\"type\":\"UnionRenderers\"}},\"id\":\"1292\",\"type\":\"ColumnDataSource\"},{\"attributes\":{},\"id\":\"1122\",\"type\":\"BasicTicker\"},{\"attributes\":{\"source\":{\"id\":\"1386\",\"type\":\"ColumnDataSource\"}},\"id\":\"1400\",\"type\":\"CDSView\"},{\"attributes\":{\"label\":{\"value\":\"Trades - Net Profit/Loss (True) Positive\"},\"renderers\":[{\"id\":\"1221\",\"type\":\"GlyphRenderer\"}]},\"id\":\"1232\",\"type\":\"LegendItem\"},{\"attributes\":{},\"id\":\"1488\",\"type\":\"StringEditor\"},{\"attributes\":{\"children\":[{\"id\":\"1276\",\"type\":\"Row\"},{\"id\":\"1286\",\"type\":\"Row\"}]},\"id\":\"1287\",\"type\":\"Column\"},{\"attributes\":{\"callback\":null,\"end\":309.28969533905894,\"start\":-82.82928873865609},\"id\":\"1180\",\"type\":\"DataRange1d\"},{\"attributes\":{},\"id\":\"1482\",\"type\":\"StringEditor\"},{\"attributes\":{},\"id\":\"1507\",\"type\":\"Selection\"},{\"attributes\":{\"args\":{\"axis\":{\"id\":\"1116\",\"type\":\"LinearAxis\"},\"formatter\":{\"id\":\"1139\",\"type\":\"DatetimeTickFormatter\"},\"source\":{\"id\":\"1002\",\"type\":\"ColumnDataSource\"}},\"code\":\"\\n                axis.formatter.doFormat = function (ticks) {\\n                    const dates = ticks.map(i => source.data.datetime[i]),\\n                          valid = t => t !== undefined,\\n                          labels = formatter.doFormat(dates.filter(valid));\\n                    let i = 0;\\n                    return dates.map(t => valid(t) ? labels[i++] : '');\\n                };\\n                const axisticks = axis.tick_coords.major[0],\\n                      labels = axis.formatter.doFormat(ticks);\\n                return labels[axisticks.indexOf(tick)];\\n        \"},\"id\":\"1140\",\"type\":\"FuncTickFormatter\"},{\"attributes\":{\"format\":\"0,0.000\"},\"id\":\"1306\",\"type\":\"NumberFormatter\"},{\"attributes\":{\"children\":[{\"id\":\"1107\",\"subtype\":\"Figure\",\"type\":\"Plot\"}]},\"id\":\"1276\",\"type\":\"Row\"},{\"attributes\":{\"child\":{\"id\":\"1290\",\"type\":\"Row\"},\"title\":\"Observers\"},\"id\":\"1291\",\"type\":\"Panel\"},{\"attributes\":{},\"id\":\"1467\",\"type\":\"StringEditor\"},{\"attributes\":{\"toolbar\":{\"id\":\"1288\",\"type\":\"ProxyToolbar\"},\"toolbar_location\":\"left\"},\"id\":\"1289\",\"type\":\"ToolbarBox\"},{\"attributes\":{\"line_color\":\"#000000\"},\"id\":\"1142\",\"type\":\"CrosshairTool\"},{\"attributes\":{\"bottom_units\":\"screen\",\"fill_alpha\":{\"value\":0.5},\"fill_color\":{\"value\":\"lightgrey\"},\"left_units\":\"screen\",\"level\":\"overlay\",\"line_alpha\":{\"value\":1.0},\"line_color\":{\"value\":\"black\"},\"line_dash\":[4,4],\"line_width\":{\"value\":2},\"plot\":null,\"render_mode\":\"css\",\"right_units\":\"screen\",\"top_units\":\"screen\"},\"id\":\"1028\",\"type\":\"BoxAnnotation\"},{\"attributes\":{\"source\":{\"id\":\"1302\",\"type\":\"ColumnDataSource\"}},\"id\":\"1310\",\"type\":\"CDSView\"},{\"attributes\":{\"logo\":null,\"tools\":[{\"id\":\"1022\",\"type\":\"PanTool\"},{\"id\":\"1023\",\"type\":\"WheelZoomTool\"},{\"id\":\"1024\",\"type\":\"BoxZoomTool\"},{\"id\":\"1025\",\"type\":\"ResetTool\"},{\"id\":\"1038\",\"type\":\"CrosshairTool\"},{\"id\":\"1040\",\"type\":\"HoverTool\"}]},\"id\":\"1263\",\"type\":\"ProxyToolbar\"},{\"attributes\":{\"overlay\":{\"id\":\"1132\",\"type\":\"BoxAnnotation\"}},\"id\":\"1128\",\"type\":\"BoxZoomTool\"},{\"attributes\":{},\"id\":\"1460\",\"type\":\"Selection\"},{\"attributes\":{},\"id\":\"1508\",\"type\":\"StringEditor\"},{\"attributes\":{\"callback\":null,\"formatters\":{\"datetime\":\"datetime\"},\"mode\":\"vline\",\"renderers\":[{\"id\":\"1221\",\"type\":\"GlyphRenderer\"},{\"id\":\"1236\",\"type\":\"GlyphRenderer\"}],\"tooltips\":[[\"Time\",\"@datetime{%x %X}\"],[\"Open\",\"@139963905440656open{0,0.000}\"],[\"High\",\"@139963905440656high{0,0.000}\"],[\"Low\",\"@139963905440656low{0,0.000}\"],[\"Close\",\"@139963905440656close{0,0.000}\"],[\"Volume\",\"@139963905440656volume{(0,0.000)}\"],[\"BuySell (True, 0.015) - buy\",\"@139963904991376{0,0.000}\"],[\"BuySell (True, 0.015) - sell\",\"@139963904993808{0,0.000}\"],[\"Trades - Net Profit/Loss (True) - pnlplus\",\"@139963904994448{0,0.000}\"],[\"Trades - Net Profit/Loss (True) - pnlminus\",\"@139963904993488{0,0.000}\"]]},\"id\":\"1214\",\"type\":\"HoverTool\"},{\"attributes\":{\"dimension\":1,\"grid_line_color\":{\"value\":\"#eeeeee\"},\"plot\":{\"id\":\"1003\",\"subtype\":\"Figure\",\"type\":\"Plot\"},\"ticker\":{\"id\":\"1018\",\"type\":\"BasicTicker\"}},\"id\":\"1021\",\"type\":\"Grid\"},{\"attributes\":{\"line_color\":\"#dc143c\",\"x\":{\"field\":\"index\"},\"y\":{\"field\":\"139963904990224\"}},\"id\":\"1149\",\"type\":\"Line\"},{\"attributes\":{\"fill_alpha\":{\"value\":0.1},\"fill_color\":{\"value\":\"#1f77b4\"},\"line_alpha\":{\"value\":0.1},\"line_color\":{\"value\":\"#1f77b4\"},\"size\":{\"units\":\"screen\",\"value\":9.6},\"x\":{\"field\":\"index\"},\"y\":{\"field\":\"139963904993488\"}},\"id\":\"1235\",\"type\":\"Circle\"},{\"attributes\":{},\"id\":\"1483\",\"type\":\"StringEditor\"},{\"attributes\":{\"data_source\":{\"id\":\"1002\",\"type\":\"ColumnDataSource\"},\"glyph\":{\"id\":\"1219\",\"type\":\"Circle\"},\"hover_glyph\":null,\"muted_glyph\":null,\"name\":\"pnlplus\",\"nonselection_glyph\":{\"id\":\"1220\",\"type\":\"Circle\"},\"selection_glyph\":null,\"view\":{\"id\":\"1222\",\"type\":\"CDSView\"}},\"id\":\"1221\",\"type\":\"GlyphRenderer\"},{\"attributes\":{\"callback\":null,\"data\":{\"col0\":[\"Won\",\"Lost\",\"Long\",\"Short\",\"Won / Long\",\"Won / Short\",\"Lost / Long\",\"Lost / Short\"],\"col1\":[15,12,12,15,0,15,12,0],\"col2\":[15,12,12,15,9223372036854775807,15,12,9223372036854775807],\"col3\":[15,12,12,15,0,15,12,0],\"col4\":[15.0,12.0,12.0,15.0,0.0,15.0,12.0,0.0]},\"selected\":{\"id\":\"1496\",\"type\":\"Selection\"},\"selection_policy\":{\"id\":\"1495\",\"type\":\"UnionRenderers\"}},\"id\":\"1401\",\"type\":\"ColumnDataSource\"},{\"attributes\":{\"fill_alpha\":{\"value\":0.1},\"fill_color\":{\"value\":\"#1f77b4\"},\"line_alpha\":{\"value\":0.1},\"line_color\":{\"value\":\"#1f77b4\"},\"size\":{\"units\":\"screen\",\"value\":9.6},\"x\":{\"field\":\"index\"},\"y\":{\"field\":\"139963904993808\"}},\"id\":\"1094\",\"type\":\"InvertedTriangle\"},{\"attributes\":{},\"id\":\"1459\",\"type\":\"UnionRenderers\"},{\"attributes\":{\"source\":{\"id\":\"1401\",\"type\":\"ColumnDataSource\"}},\"id\":\"1418\",\"type\":\"CDSView\"},{\"attributes\":{\"fill_color\":{\"value\":\"#0000ff\"},\"line_color\":{\"value\":\"#0000ff\"},\"size\":{\"units\":\"screen\",\"value\":9.6},\"x\":{\"field\":\"index\"},\"y\":{\"field\":\"139963904994448\"}},\"id\":\"1219\",\"type\":\"Circle\"},{\"attributes\":{},\"id\":\"1491\",\"type\":\"StringEditor\"},{\"attributes\":{\"children\":[{\"id\":\"1003\",\"subtype\":\"Figure\",\"type\":\"Plot\"}]},\"id\":\"1261\",\"type\":\"Row\"},{\"attributes\":{},\"id\":\"1484\",\"type\":\"UnionRenderers\"},{\"attributes\":{},\"id\":\"1402\",\"type\":\"StringFormatter\"},{\"attributes\":{\"format\":\"0,0.000\"},\"id\":\"1414\",\"type\":\"NumberFormatter\"},{\"attributes\":{\"callback\":null,\"data\":{\"col0\":[\"Length\",\"Moneydown\",\"Drawdown\"],\"col1\":[23,160.51854005928544,1.550954950603033],\"col2\":[23,163.88786163412078,1.583509856564266]},\"selected\":{\"id\":\"1464\",\"type\":\"Selection\"},\"selection_policy\":{\"id\":\"1463\",\"type\":\"UnionRenderers\"}},\"id\":\"1312\",\"type\":\"ColumnDataSource\"},{\"attributes\":{\"format\":\"0,0.000\"},\"id\":\"1296\",\"type\":\"NumberFormatter\"},{\"attributes\":{},\"id\":\"1068\",\"type\":\"BasicTicker\"},{\"attributes\":{},\"id\":\"1313\",\"type\":\"StringFormatter\"},{\"attributes\":{\"callback\":null,\"data\":{\"col0\":[1567209600000.0],\"col1\":[\"NaN\"]},\"selected\":{\"id\":\"1460\",\"type\":\"Selection\"},\"selection_policy\":{\"id\":\"1459\",\"type\":\"UnionRenderers\"}},\"id\":\"1302\",\"type\":\"ColumnDataSource\"},{\"attributes\":{\"editor\":{\"id\":\"1467\",\"type\":\"StringEditor\"},\"field\":\"col2\",\"formatter\":{\"id\":\"1319\",\"type\":\"NumberFormatter\"},\"title\":\"Maximum\"},\"id\":\"1320\",\"type\":\"TableColumn\"},{\"attributes\":{\"logo\":null,\"tools\":[{\"id\":\"1126\",\"type\":\"PanTool\"},{\"id\":\"1127\",\"type\":\"WheelZoomTool\"},{\"id\":\"1128\",\"type\":\"BoxZoomTool\"},{\"id\":\"1129\",\"type\":\"ResetTool\"},{\"id\":\"1142\",\"type\":\"CrosshairTool\"},{\"id\":\"1144\",\"type\":\"HoverTool\"},{\"id\":\"1196\",\"type\":\"PanTool\"},{\"id\":\"1197\",\"type\":\"WheelZoomTool\"},{\"id\":\"1198\",\"type\":\"BoxZoomTool\"},{\"id\":\"1199\",\"type\":\"ResetTool\"},{\"id\":\"1212\",\"type\":\"CrosshairTool\"},{\"id\":\"1214\",\"type\":\"HoverTool\"}]},\"id\":\"1288\",\"type\":\"ProxyToolbar\"},{\"attributes\":{\"columns\":[{\"id\":\"1403\",\"type\":\"TableColumn\"},{\"id\":\"1406\",\"type\":\"TableColumn\"},{\"id\":\"1409\",\"type\":\"TableColumn\"},{\"id\":\"1412\",\"type\":\"TableColumn\"},{\"id\":\"1415\",\"type\":\"TableColumn\"}],\"height\":250,\"index_position\":null,\"source\":{\"id\":\"1401\",\"type\":\"ColumnDataSource\"},\"view\":{\"id\":\"1418\",\"type\":\"CDSView\"},\"width\":930},\"id\":\"1417\",\"type\":\"DataTable\"},{\"attributes\":{\"fill_alpha\":{\"value\":0.1},\"fill_color\":{\"value\":\"#1f77b4\"},\"line_alpha\":{\"value\":0.1},\"line_color\":{\"value\":\"#1f77b4\"},\"size\":{\"units\":\"screen\",\"value\":9.6},\"x\":{\"field\":\"index\"},\"y\":{\"field\":\"139963904994448\"}},\"id\":\"1220\",\"type\":\"Circle\"},{\"attributes\":{},\"id\":\"1487\",\"type\":\"StringEditor\"},{\"attributes\":{\"style\":{\"font-size\":\"large\"},\"text\":\"Calmar\",\"width\":930},\"id\":\"1311\",\"type\":\"Paragraph\"},{\"attributes\":{\"dimension\":1,\"grid_line_color\":{\"value\":\"#eeeeee\"},\"plot\":{\"id\":\"1107\",\"subtype\":\"Figure\",\"type\":\"Plot\"},\"ticker\":{\"id\":\"1122\",\"type\":\"BasicTicker\"}},\"id\":\"1125\",\"type\":\"Grid\"},{\"attributes\":{\"callback\":null,\"data\":{\"139963904988880\":[10000.0,10000.0,10000.0,10000.0,10000.0,10000.0,10000.0,10000.0,10000.0,10000.0,10000.0,10000.0,10000.0,10000.0,10000.0,10000.0,10000.0,10000.0,10000.0,10000.0,10000.0,10000.0,10000.0,10000.0,10000.0,10000.0,10000.0,10000.0,10000.0,10000.0,10000.0,10000.0,10000.0,10000.0,10000.0,10000.0,10000.0,10000.0,10000.0,10000.0,10000.0,10000.0,10000.0,10000.0,10000.0,10000.0,10000.0,10000.0,9968.564571972689,9980.201886266583,9986.672426164434,9963.389749641447,9982.833561075784,9953.450549673977,9973.063367747438,9951.140792272632,9932.542014033908,9962.512524705047,9945.845250913446,10303.085046343404,10332.53244122678,10349.658447324573,10288.977015944234,10281.17245030824,10281.17245030824,10281.17245030824,10281.17245030824,10273.08614172033,10258.159237863098,10253.55649119316,10211.662103136183,10255.60595167699,10232.11401088108,10222.285139977374,10225.931471754855,10199.348261395833,10185.770585690452,10233.727961012095,10200.38153105643,10189.139907265288,10189.139907265288,10189.139907265288,10189.139907265288,10189.139907265288,10189.139907265288],\"139963904990224\":[10000.0,10000.0,10000.0,10000.0,10000.0,10000.0,10000.0,10000.0,10000.0,10000.0,10000.0,10000.0,10000.0,10000.0,10000.0,10000.0,10000.0,10000.0,10000.0,10000.0,10000.0,10000.0,10000.0,10000.0,10000.0,10000.0,10000.0,10000.0,10000.0,10000.0,10000.0,10000.0,10000.0,10000.0,10000.0,10000.0,10000.0,10000.0,10000.0,10000.0,10000.0,10000.0,10000.0,10000.0,10000.0,10000.0,10000.0,10000.0,19503.339699956035,19503.339699956035,19503.339699956035,19503.339699956035,19503.339699956035,19503.339699956035,19503.339699956035,19503.339699956035,19503.339699956035,19503.339699956035,19503.339699956035,19503.339699956035,19503.339699956035,19503.339699956035,19503.339699956035,10281.17245030824,10281.17245030824,10281.17245030824,10281.17245030824,511.37776595360697,511.37776595360697,511.37776595360697,511.37776595360697,511.37776595360697,511.37776595360697,511.37776595360697,511.37776595360697,511.37776595360697,511.37776595360697,511.37776595360697,511.37776595360697,10189.139907265288,10189.139907265288,10189.139907265288,10189.139907265288,10189.139907265288,10189.139907265288],\"139963904991376\":[\"NaN\",\"NaN\",\"NaN\",\"NaN\",\"NaN\",\"NaN\",\"NaN\",\"NaN\",\"NaN\",\"NaN\",\"NaN\",\"NaN\",\"NaN\",\"NaN\",\"NaN\",\"NaN\",\"NaN\",\"NaN\",\"NaN\",\"NaN\",\"NaN\",\"NaN\",\"NaN\",\"NaN\",\"NaN\",\"NaN\",\"NaN\",\"NaN\",\"NaN\",\"NaN\",\"NaN\",\"NaN\",\"NaN\",\"NaN\",\"NaN\",\"NaN\",\"NaN\",\"NaN\",\"NaN\",\"NaN\",\"NaN\",\"NaN\",\"NaN\",\"NaN\",\"NaN\",\"NaN\",\"NaN\",\"NaN\",\"NaN\",\"NaN\",\"NaN\",\"NaN\",\"NaN\",\"NaN\",\"NaN\",\"NaN\",\"NaN\",\"NaN\",\"NaN\",\"NaN\",\"NaN\",\"NaN\",\"NaN\",11241.2928,\"NaN\",\"NaN\",\"NaN\",11230.97,\"NaN\",\"NaN\",\"NaN\",\"NaN\",\"NaN\",\"NaN\",\"NaN\",\"NaN\",\"NaN\",\"NaN\",\"NaN\",\"NaN\",\"NaN\",\"NaN\",\"NaN\",\"NaN\",\"NaN\"],\"139963904993488\":[\"NaN\",\"NaN\",\"NaN\",\"NaN\",\"NaN\",\"NaN\",\"NaN\",\"NaN\",\"NaN\",\"NaN\",\"NaN\",\"NaN\",\"NaN\",\"NaN\",\"NaN\",\"NaN\",\"NaN\",\"NaN\",\"NaN\",\"NaN\",\"NaN\",\"NaN\",\"NaN\",\"NaN\",\"NaN\",\"NaN\",\"NaN\",\"NaN\",\"NaN\",\"NaN\",\"NaN\",\"NaN\",\"NaN\",\"NaN\",\"NaN\",\"NaN\",\"NaN\",\"NaN\",\"NaN\",\"NaN\",\"NaN\",\"NaN\",\"NaN\",\"NaN\",\"NaN\",\"NaN\",\"NaN\",\"NaN\",\"NaN\",\"NaN\",\"NaN\",\"NaN\",\"NaN\",\"NaN\",\"NaN\",\"NaN\",\"NaN\",\"NaN\",\"NaN\",\"NaN\",\"NaN\",\"NaN\",\"NaN\",\"NaN\",\"NaN\",\"NaN\",\"NaN\",\"NaN\",\"NaN\",\"NaN\",\"NaN\",\"NaN\",\"NaN\",\"NaN\",\"NaN\",\"NaN\",\"NaN\",\"NaN\",\"NaN\",-92.0325430429512,\"NaN\",\"NaN\",\"NaN\",\"NaN\",\"NaN\"],\"139963904993808\":[\"NaN\",\"NaN\",\"NaN\",\"NaN\",\"NaN\",\"NaN\",\"NaN\",\"NaN\",\"NaN\",\"NaN\",\"NaN\",\"NaN\",\"NaN\",\"NaN\",\"NaN\",\"NaN\",\"NaN\",\"NaN\",\"NaN\",\"NaN\",\"NaN\",\"NaN\",\"NaN\",\"NaN\",\"NaN\",\"NaN\",\"NaN\",\"NaN\",\"NaN\",\"NaN\",\"NaN\",\"NaN\",\"NaN\",\"NaN\",\"NaN\",\"NaN\",\"NaN\",\"NaN\",\"NaN\",\"NaN\",\"NaN\",\"NaN\",\"NaN\",\"NaN\",\"NaN\",\"NaN\",\"NaN\",\"NaN\",12068.553,\"NaN\",\"NaN\",\"NaN\",\"NaN\",\"NaN\",\"NaN\",\"NaN\",\"NaN\",\"NaN\",\"NaN\",\"NaN\",\"NaN\",\"NaN\",\"NaN\",\"NaN\",\"NaN\",\"NaN\",\"NaN\",\"NaN\",\"NaN\",\"NaN\",\"NaN\",\"NaN\",\"NaN\",\"NaN\",\"NaN\",\"NaN\",\"NaN\",\"NaN\",\"NaN\",11561.184949999999,\"NaN\",\"NaN\",\"NaN\",\"NaN\",\"NaN\"],\"139963904994448\":[\"NaN\",\"NaN\",\"NaN\",\"NaN\",\"NaN\",\"NaN\",\"NaN\",\"NaN\",\"NaN\",\"NaN\",\"NaN\",\"NaN\",\"NaN\",\"NaN\",\"NaN\",\"NaN\",\"NaN\",\"NaN\",\"NaN\",\"NaN\",\"NaN\",\"NaN\",\"NaN\",\"NaN\",\"NaN\",\"NaN\",\"NaN\",\"NaN\",\"NaN\",\"NaN\",\"NaN\",\"NaN\",\"NaN\",\"NaN\",\"NaN\",\"NaN\",\"NaN\",\"NaN\",\"NaN\",\"NaN\",\"NaN\",\"NaN\",\"NaN\",\"NaN\",\"NaN\",\"NaN\",\"NaN\",\"NaN\",\"NaN\",\"NaN\",\"NaN\",\"NaN\",\"NaN\",\"NaN\",\"NaN\",\"NaN\",\"NaN\",\"NaN\",\"NaN\",\"NaN\",\"NaN\",\"NaN\",\"NaN\",281.1724503082354,\"NaN\",\"NaN\",\"NaN\",\"NaN\",\"NaN\",\"NaN\",\"NaN\",\"NaN\",\"NaN\",\"NaN\",\"NaN\",\"NaN\",\"NaN\",\"NaN\",\"NaN\",\"NaN\",\"NaN\",\"NaN\",\"NaN\",\"NaN\",\"NaN\"],\"139963905440656close\":{\"__ndarray__\":\"AAAAAAAA+H8zMzMzUxfHQD0K16NQKMdAcT0K1wMcx0ApXI/CtTDHQBSuR+GaVcdAexSuRwEgx0DD9Shcj/rGQBSuR+Ga+sZAPQrXozAJx0DD9Shcj+PGQHE9Ctdj7sZAexSuR4HcxkCuR+F6NPDGQPYoXI9i/MZA4XoUrucgx0A9CtejcBrHQI/C9Sjc+MZAFK5H4foHx0AAAAAAAO7GQMP1KFyv78ZAzczMzEwlx0C4HoXr0QnHQFyPwvUI/cZAXI/C9YgQx0ApXI/CdR/HQDMzMzOTJsdACtejcH0ex0CkcD0Klx7HQAAAAADAM8dAj8L1KPw4x0B7FK5HgUbHQEjhehQOTMdA4XoUrsc/x0AAAAAAgCLHQHE9CtcDKMdAhetRuP4zx0CkcD0Kt1HHQBSuR+FaTMdA9ihcj2I0x0BmZmZmhjzHQLgeheuRFsdACtejcN0Mx0BxPQrXAxPHQHE9CteDH8dAmpmZmVkOx0DD9Shczw3HQMP1KFxvFsdACtejcL0jx0D2KFyPghzHQArXo3B9GMdArkfhevQmx0AAAAAA4BrHQHsUrkchLcdAuB6F6/Egx0A9CtejkC7HQIXrUbgeOsdAAAAAAIAnx0AUrkfh2jHHQFyPwvXoU8ZACtejcJ1BxkCamZmZ+TbGQM3MzMysXMZA9ihcj4JhxkA9CtejkGbGQAAAAAAAV8ZAPQrXozBTxkDNzMzMrFPGQMP1KFzvSsZACtejcD1IxkApXI/CtS/GQD0K16NwScZAw/UoXK87xkBI4XoU7jXGQD0K16MQOMZAAAAAAIAoxkDNzMzMjCDGQHsUrkehPMZAFK5H4RopxkAUrkfheiTGQOxRuB7FI8ZAKVyPwlUVxkCkcD0Ktx3GQMP1KFwPI8ZA4XoUrqcWxkA=\",\"dtype\":\"float64\",\"shape\":[85]},\"139963905440656colors_bars\":[\"#fc5d45\",\"#fc5d45\",\"#265371\",\"#fc5d45\",\"#265371\",\"#265371\",\"#fc5d45\",\"#fc5d45\",\"#265371\",\"#265371\",\"#fc5d45\",\"#265371\",\"#fc5d45\",\"#265371\",\"#265371\",\"#265371\",\"#fc5d45\",\"#fc5d45\",\"#265371\",\"#fc5d45\",\"#265371\",\"#265371\",\"#fc5d45\",\"#fc5d45\",\"#265371\",\"#265371\",\"#265371\",\"#fc5d45\",\"#265371\",\"#265371\",\"#265371\",\"#265371\",\"#265371\",\"#fc5d45\",\"#fc5d45\",\"#265371\",\"#265371\",\"#265371\",\"#fc5d45\",\"#fc5d45\",\"#265371\",\"#fc5d45\",\"#fc5d45\",\"#265371\",\"#265371\",\"#fc5d45\",\"#fc5d45\",\"#265371\",\"#265371\",\"#fc5d45\",\"#fc5d45\",\"#265371\",\"#fc5d45\",\"#265371\",\"#fc5d45\",\"#265371\",\"#265371\",\"#fc5d45\",\"#265371\",\"#fc5d45\",\"#fc5d45\",\"#fc5d45\",\"#265371\",\"#265371\",\"#265371\",\"#fc5d45\",\"#fc5d45\",\"#265371\",\"#fc5d45\",\"#fc5d45\",\"#fc5d45\",\"#265371\",\"#fc5d45\",\"#fc5d45\",\"#265371\",\"#fc5d45\",\"#fc5d45\",\"#265371\",\"#fc5d45\",\"#fc5d45\",\"#fc5d45\",\"#fc5d45\",\"#265371\",\"#265371\",\"#fc5d45\"],\"139963905440656colors_outline\":[\"#fc5d45\",\"#fc5d45\",\"#265371\",\"#fc5d45\",\"#265371\",\"#265371\",\"#fc5d45\",\"#fc5d45\",\"#265371\",\"#265371\",\"#fc5d45\",\"#265371\",\"#fc5d45\",\"#265371\",\"#265371\",\"#265371\",\"#fc5d45\",\"#fc5d45\",\"#265371\",\"#fc5d45\",\"#265371\",\"#265371\",\"#fc5d45\",\"#fc5d45\",\"#265371\",\"#265371\",\"#265371\",\"#fc5d45\",\"#265371\",\"#265371\",\"#265371\",\"#265371\",\"#265371\",\"#fc5d45\",\"#fc5d45\",\"#265371\",\"#265371\",\"#265371\",\"#fc5d45\",\"#fc5d45\",\"#265371\",\"#fc5d45\",\"#fc5d45\",\"#265371\",\"#265371\",\"#fc5d45\",\"#fc5d45\",\"#265371\",\"#265371\",\"#fc5d45\",\"#fc5d45\",\"#265371\",\"#fc5d45\",\"#265371\",\"#fc5d45\",\"#265371\",\"#265371\",\"#fc5d45\",\"#265371\",\"#fc5d45\",\"#fc5d45\",\"#fc5d45\",\"#265371\",\"#265371\",\"#265371\",\"#fc5d45\",\"#fc5d45\",\"#265371\",\"#fc5d45\",\"#fc5d45\",\"#fc5d45\",\"#265371\",\"#fc5d45\",\"#fc5d45\",\"#265371\",\"#fc5d45\",\"#fc5d45\",\"#265371\",\"#fc5d45\",\"#fc5d45\",\"#fc5d45\",\"#fc5d45\",\"#265371\",\"#265371\",\"#fc5d45\"],\"139963905440656colors_wicks\":[\"#fc5d45\",\"#fc5d45\",\"#265371\",\"#fc5d45\",\"#265371\",\"#265371\",\"#fc5d45\",\"#fc5d45\",\"#265371\",\"#265371\",\"#fc5d45\",\"#265371\",\"#fc5d45\",\"#265371\",\"#265371\",\"#265371\",\"#fc5d45\",\"#fc5d45\",\"#265371\",\"#fc5d45\",\"#265371\",\"#265371\",\"#fc5d45\",\"#fc5d45\",\"#265371\",\"#265371\",\"#265371\",\"#fc5d45\",\"#265371\",\"#265371\",\"#265371\",\"#265371\",\"#265371\",\"#fc5d45\",\"#fc5d45\",\"#265371\",\"#265371\",\"#265371\",\"#fc5d45\",\"#fc5d45\",\"#265371\",\"#fc5d45\",\"#fc5d45\",\"#265371\",\"#265371\",\"#fc5d45\",\"#fc5d45\",\"#265371\",\"#265371\",\"#fc5d45\",\"#fc5d45\",\"#265371\",\"#fc5d45\",\"#265371\",\"#fc5d45\",\"#265371\",\"#265371\",\"#fc5d45\",\"#265371\",\"#fc5d45\",\"#fc5d45\",\"#fc5d45\",\"#265371\",\"#265371\",\"#265371\",\"#fc5d45\",\"#fc5d45\",\"#265371\",\"#fc5d45\",\"#fc5d45\",\"#fc5d45\",\"#265371\",\"#fc5d45\",\"#fc5d45\",\"#265371\",\"#fc5d45\",\"#fc5d45\",\"#265371\",\"#fc5d45\",\"#fc5d45\",\"#fc5d45\",\"#fc5d45\",\"#265371\",\"#265371\",\"#fc5d45\"],\"139963905440656high\":{\"__ndarray__\":\"AAAAAAAA+H8AAAAAAC7HQFK4HoUrMMdAAAAAAAAux0AAAAAAAD7HQAAAAAAAYcdACtejcP1Wx0AfhetR+CnHQKRwPQr3E8dAAAAAAAAWx0AAAAAAAAvHQEjhehQuAcdAAAAAAAD+xkB7FK5H4QXHQBSuR+H6BMdAFK5H4To8x0AAAAAAADTHQFyPwvWIIcdAPQrXoxAZx0DhehSupwjHQAAAAABgAMdAzczMzOwnx0AAAAAAADTHQHE9CtdjEMdAexSuR6EXx0CPwvUo/CnHQB+F61E4J8dAAAAAAABDx0AzMzMzUznHQAAAAAAAPsdAAAAAAAA9x0AAAAAAgE7HQAAAAACATsdAAAAAAIBex0AAAAAAAEjHQKRwPQq3McdASOF6FK4+x0AAAAAAgGjHQLgehesxVsdAAAAAAABSx0BI4XoUjkTHQGZmZmZGQcdA9ihcj+Igx0AAAAAAABvHQOxRuB6FH8dAAAAAAAAlx0AAAAAAABbHQClcj8J1HsdAmpmZmRk5x0B7FK5HoTPHQPYoXI8CLMdAAAAAAIAnx0AAAAAAACjHQEjhehROM8dAH4XrUXg2x0AAAAAAgDXHQDMzMzPTPMdASOF6FC5Ax0DXo3A9qjTHQHE9CtfjM8dA7FG4HmVvxkAAAAAAwEnGQI/C9SgcaMZAAAAAAIB+xkAAAAAAAHHGQAAAAAAAZsZAuB6F63FcxkCkcD0Kt1nGQHsUrkfhVMZArkfhenRPxkDsUbgehUnGQAAAAABAU8ZAMzMzM9NTxkAAAAAAgEbGQAAAAACAQ8ZA9ihcj0I4xkAAAAAAgDnGQAAAAACAQsZArkfhetQ7xkDXo3A9Kj/GQK5H4Xr0NsZAhetRuB4kxkBI4XoU7iHGQB+F61EYNMZAcT0K1wMwxkA=\",\"dtype\":\"float64\",\"shape\":[85]},\"139963905440656low\":{\"__ndarray__\":\"AAAAAAAA+H8AAAAAgBTHQAAAAAAADsdAAAAAAEAZx0AAAAAAABvHQOxRuB7FJMdAAAAAAAAPx0AAAAAAAN/GQHsUrkch6MZAAAAAAADzxkAAAAAAANrGQAAAAAAA2sZAXI/C9QjaxkAAAAAAANrGQGZmZmaG7sZAMzMzM3P6xkCkcD0KlwjHQAAAAAAA2sZAzczMzAzvxkAAAAAAAOTGQAAAAACA5sZAAAAAAADaxkAAAAAAgATHQAAAAACA88ZAAAAAAGDxxkAAAAAAgAzHQI/C9ShcD8dAAAAAAAAbx0CuR+F6NBDHQM3MzMzMGMdAAAAAAAAlx0B7FK5HgSzHQFyPwvXINcdAAAAAAIAsx0DhehSuJxzHQMP1KFxvIcdAMzMzM7Mnx0Bcj8L1CDPHQHE9CteDNMdAAAAAAIAux0BSuB6FKzPHQEjhehTO88ZAH4XrURgDx0AzMzMz0wnHQAAAAAAA/cZAAAAAAAAMx0CPwvUovAnHQAAAAAAACcdAmpmZmRkWx0ApXI/CNRHHQDMzMzPzDMdA9ihcj8IQx0AUrkfh+hTHQHE9CtejGcdAAAAAAIAfx0CamZmZ+R/HQAAAAAAAJsdAw/UoXM8mx0AAAAAAgCXHQOxRuB4lMMZAAAAAAAArxkAAAAAAABfGQAAAAAAANcZACtejcD1KxkAzMzMzs1HGQAAAAAAAScZAPQrXo3A0xkAAAAAAAEXGQFyPwvXoOsZAmpmZmVk2xkAAAAAAACHGQM3MzMwMBMZAzczMzEw7xkBSuB6FSyHGQK5H4Xr0HsZAmpmZmbkixkAAAAAAAAPGQBSuR+F6GsZApHA9CpcjxkAAAAAAgAXGQHsUrkeBF8ZAAAAAAAADxkAAAAAAAAPGQI/C9SicG8ZAKVyPwvUVxkA=\",\"dtype\":\"float64\",\"shape\":[85]},\"139963905440656open\":{\"__ndarray__\":\"AAAAAAAA+H/D9ShcDyvHQI/C9ShcF8dAZmZmZsYnx0AzMzMz8xvHQClcj8K1MMdAKVyPwjVVx0BxPQrX4yDHQI/C9Sjc+cZAFK5H4Zr6xkBSuB6FSwnHQOF6FK4n48ZAw/UoXM/uxkBxPQrXg9zGQD0K16OQ8MZAexSuRwH+xkDXo3A96iDHQAAAAAAgGsdAj8L1KNz4xkAUrkfh+gfHQHsUrkcB7sZA16NwParvxkDXo3A9SiXHQLgehevRCcdASOF6FO7/xkBcj8L1iBDHQFyPwvVoH8dAhetRuP4lx0DD9ShcLx7HQBSuR+GaHsdAZmZmZgYyx0ApXI/C9TjHQOxRuB6FRsdAuB6F69FMx0AzMzMzsz/HQGZmZmZmIsdAAAAAAAAox0AK16Nw/TPHQLgehevRUcdAhetRuP5Lx0BSuB6FqzTHQKRwPQrXPcdAj8L1KHwXx0BI4XoUTgzHQHsUrkcBE8dArkfhetQex0DsUbgeRQ7HQPYoXI8iDsdAhetRuB4Wx0CuR+F61CPHQPYoXI+CHMdAXI/C9QgYx0CuR+F69CbHQMP1KFxvGsdAzczMzCwtx0B7FK5HASDHQB+F61H4LsdArkfhepQ7x0AK16NwfSjHQPYoXI/iMcdAZmZmZsZTxkAK16NwnUHGQFyPwvWoNsZAzczMzMxbxkAAAAAAgGHGQNejcD1qZcZApHA9CtdWxkC4HoXrsVLGQIXrUbjeU8ZAPQrXo5BKxkCuR+F69EjGQK5H4Xq0L8ZAAAAAAGBJxkDNzMzMrDvGQKRwPQqXNsZA7FG4HoU3xkD2KFyPgijGQOF6FK7HIcZAmpmZmbk7xkC4HoXrMSjGQBSuR+F6JMZAhetRuB4kxkCkcD0K1xLGQDMzMzOzHcZAKVyPwjUjxkA=\",\"dtype\":\"float64\",\"shape\":[85]},\"139963905440656volume\":{\"__ndarray__\":\"AAAAAAAA+H8L6V+9jXlTQaJt95cyhlZBFeThmGWwXEFrEQXTQldmQV6b4wPrOXlBAU90IPO8dkGiOQ/vYR5zQe1oGvqpmmVB/jEJgNy8ZEE9f5nqmiBuQSm/uQboHltBhGCdk5sxWUGweJsv6xxlQWIaAH1vN1lBzM/NbDgTcEF1E8wOPWNfQRFM+gdRcm1Bu/H2AYdNWEFSyetNs9laQdRXOrRC5VVBCj7UHA65a0HVqnrKOeNcQWiwjDBBRVlBQAWwrITwVUFqtYsSIUdhQVSOnij8YFFBbz/LE2WMdEFk23onXzVgQUTvg9MB8ltBvxMrPM7CUUG3ghsZhkRjQeo1B263EV9B+VBADEQCZEGNKu9EfqZdQTaRgUtcc01BqyvZEMHoUUGxEzuR+3RsQRHZrAURJ19BnrYfEVWvWUGH9EigqDxZQciDBF5i2WtBlJYlIz/sVUHMnEtLAj1YQaX+dqQRZ1ZBnsCRUl9ETEFqsnMQm7lEQU1z4eOVs0ZBBWmaqp0RWUEzC72VUfZlQXA85aJW6lBB44OilC7cUEE3mNFMKo5GQUYUJriNvFBBW6OSSJYQTkE58Lk4SE5MQV+aAWE211VBBpiJGBKqUkHImHPYeAFRQWZmTlagE4tBDgaMfeDPiEF2rYuYJOiAQc84JKQl7nBBKArla8mzfkEUp/yIrepvQdueS92doGJBLQz+PAvDb0EXZvgZKypXQUcWmcI6RWtBnWsyR2gzYUG7ge82/29aQUgNpiPajnNBSNFMsak/VUEyqobGoJ1YQewtDMHyp1BB8WBue9BuTEEZiupo/l1VQVAt9ogcylBBzj8RbcDAUEGVKWyHLVddQdL/9nIDbkRBq6fJoEExVUFLzkONLslUQTtvRiwLykxBmNwTOhB1RkE=\",\"dtype\":\"float64\",\"shape\":[85]},\"139963905440656volume_colors\":[\"#cc6073\",\"#cc6073\",\"#aaaaaa\",\"#cc6073\",\"#aaaaaa\",\"#aaaaaa\",\"#cc6073\",\"#cc6073\",\"#aaaaaa\",\"#aaaaaa\",\"#cc6073\",\"#aaaaaa\",\"#cc6073\",\"#aaaaaa\",\"#aaaaaa\",\"#aaaaaa\",\"#cc6073\",\"#cc6073\",\"#aaaaaa\",\"#cc6073\",\"#aaaaaa\",\"#aaaaaa\",\"#cc6073\",\"#cc6073\",\"#aaaaaa\",\"#aaaaaa\",\"#aaaaaa\",\"#cc6073\",\"#aaaaaa\",\"#aaaaaa\",\"#aaaaaa\",\"#aaaaaa\",\"#aaaaaa\",\"#cc6073\",\"#cc6073\",\"#aaaaaa\",\"#aaaaaa\",\"#aaaaaa\",\"#cc6073\",\"#cc6073\",\"#aaaaaa\",\"#cc6073\",\"#cc6073\",\"#aaaaaa\",\"#aaaaaa\",\"#cc6073\",\"#cc6073\",\"#aaaaaa\",\"#aaaaaa\",\"#cc6073\",\"#cc6073\",\"#aaaaaa\",\"#cc6073\",\"#aaaaaa\",\"#cc6073\",\"#aaaaaa\",\"#aaaaaa\",\"#cc6073\",\"#aaaaaa\",\"#cc6073\",\"#cc6073\",\"#cc6073\",\"#aaaaaa\",\"#aaaaaa\",\"#aaaaaa\",\"#cc6073\",\"#cc6073\",\"#aaaaaa\",\"#cc6073\",\"#cc6073\",\"#cc6073\",\"#aaaaaa\",\"#cc6073\",\"#cc6073\",\"#aaaaaa\",\"#cc6073\",\"#cc6073\",\"#aaaaaa\",\"#cc6073\",\"#cc6073\",\"#cc6073\",\"#cc6073\",\"#aaaaaa\",\"#aaaaaa\",\"#cc6073\"],\"datetime\":[1565330400000.0,1565332200000.0,1565334000000.0,1565335800000.0,1565337600000.0,1565339400000.0,1565341200000.0,1565343000000.0,1565344800000.0,1565346600000.0,1565348400000.0,1565350200000.0,1565352000000.0,1565353800000.0,1565355600000.0,1565357400000.0,1565359200000.0,1565361000000.0,1565362800000.0,1565364600000.0,1565366400000.0,1565368200000.0,1565370000000.0,1565371800000.0,1565373600000.0,1565375400000.0,1565377200000.0,1565379000000.0,1565380800000.0,1565382600000.0,1565384400000.0,1565386200000.0,1565388000000.0,1565389800000.0,1565391600000.0,1565393400000.0,1565395200000.0,1565397000000.0,1565398800000.0,1565400600000.0,1565402400000.0,1565404200000.0,1565406000000.0,1565407800000.0,1565409600000.0,1565411400000.0,1565413200000.0,1565415000000.0,1565416800000.0,1565418600000.0,1565420400000.0,1565422200000.0,1565424000000.0,1565425800000.0,1565427600000.0,1565429400000.0,1565431200000.0,1565433000000.0,1565434800000.0,1565436600000.0,1565438400000.0,1565440200000.0,1565442000000.0,1565443800000.0,1565445600000.0,1565447400000.0,1565449200000.0,1565451000000.0,1565452800000.0,1565454600000.0,1565456400000.0,1565458200000.0,1565460000000.0,1565461800000.0,1565463600000.0,1565465400000.0,1565467200000.0,1565469000000.0,1565470800000.0,1565472600000.0,1565474400000.0,1565476200000.0,1565478000000.0,1565479800000.0,1565481600000.0],\"index\":[0,1,2,3,4,5,6,7,8,9,10,11,12,13,14,15,16,17,18,19,20,21,22,23,24,25,26,27,28,29,30,31,32,33,34,35,36,37,38,39,40,41,42,43,44,45,46,47,48,49,50,51,52,53,54,55,56,57,58,59,60,61,62,63,64,65,66,67,68,69,70,71,72,73,74,75,76,77,78,79,80,81,82,83,84]},\"selected\":{\"id\":\"1070\",\"type\":\"Selection\"},\"selection_policy\":{\"id\":\"1069\",\"type\":\"UnionRenderers\"}},\"id\":\"1002\",\"type\":\"ColumnDataSource\"},{\"attributes\":{},\"id\":\"1466\",\"type\":\"StringEditor\"},{\"attributes\":{},\"id\":\"1485\",\"type\":\"Selection\"},{\"attributes\":{\"columns\":[{\"id\":\"1314\",\"type\":\"TableColumn\"},{\"id\":\"1317\",\"type\":\"TableColumn\"},{\"id\":\"1320\",\"type\":\"TableColumn\"}],\"height\":125,\"index_position\":null,\"source\":{\"id\":\"1312\",\"type\":\"ColumnDataSource\"},\"view\":{\"id\":\"1323\",\"type\":\"CDSView\"},\"width\":930},\"id\":\"1322\",\"type\":\"DataTable\"},{\"attributes\":{},\"id\":\"1184\",\"type\":\"LinearScale\"},{\"attributes\":{},\"id\":\"1509\",\"type\":\"StringEditor\"},{\"attributes\":{},\"id\":\"1465\",\"type\":\"StringEditor\"},{\"attributes\":{\"axis_line_color\":{\"value\":\"#222222\"},\"formatter\":{\"id\":\"1036\",\"type\":\"FuncTickFormatter\"},\"major_label_text_color\":{\"value\":\"#333333\"},\"major_tick_line_color\":{\"value\":\"#222222\"},\"minor_tick_line_color\":{\"value\":\"#222222\"},\"plot\":{\"id\":\"1003\",\"subtype\":\"Figure\",\"type\":\"Plot\"},\"ticker\":{\"id\":\"1013\",\"type\":\"BasicTicker\"}},\"id\":\"1012\",\"type\":\"LinearAxis\"},{\"attributes\":{\"source\":{\"id\":\"1002\",\"type\":\"ColumnDataSource\"}},\"id\":\"1222\",\"type\":\"CDSView\"},{\"attributes\":{\"line_alpha\":0.1,\"line_color\":\"#1f77b4\",\"x\":{\"field\":\"index\"},\"y\":{\"field\":\"139963904988880\"}},\"id\":\"1165\",\"type\":\"Line\"},{\"attributes\":{\"format\":\"0,0.000\"},\"id\":\"1319\",\"type\":\"NumberFormatter\"},{\"attributes\":{\"columns\":[{\"id\":\"1294\",\"type\":\"TableColumn\"},{\"id\":\"1297\",\"type\":\"TableColumn\"}],\"height\":75,\"index_position\":null,\"source\":{\"id\":\"1292\",\"type\":\"ColumnDataSource\"},\"view\":{\"id\":\"1300\",\"type\":\"CDSView\"},\"width\":930},\"id\":\"1299\",\"type\":\"DataTable\"},{\"attributes\":{\"plot\":null,\"text\":\"Trades - Net Profit/Loss (True)tradeStrategy []\",\"text_color\":{\"value\":\"#333333\"}},\"id\":\"1207\",\"type\":\"Title\"},{\"attributes\":{},\"id\":\"1486\",\"type\":\"StringEditor\"},{\"attributes\":{\"editor\":{\"id\":\"1497\",\"type\":\"StringEditor\"},\"field\":\"col0\",\"formatter\":{\"id\":\"1402\",\"type\":\"StringFormatter\"},\"title\":\"Trade Length\"},\"id\":\"1403\",\"type\":\"TableColumn\"},{\"attributes\":{},\"id\":\"1463\",\"type\":\"UnionRenderers\"},{\"attributes\":{\"format\":\"0,0.000\"},\"id\":\"1316\",\"type\":\"NumberFormatter\"},{\"attributes\":{},\"id\":\"1069\",\"type\":\"UnionRenderers\"},{\"attributes\":{\"grid_line_color\":{\"value\":\"#eeeeee\"},\"plot\":{\"id\":\"1003\",\"subtype\":\"Figure\",\"type\":\"Plot\"},\"ticker\":{\"id\":\"1013\",\"type\":\"BasicTicker\"}},\"id\":\"1016\",\"type\":\"Grid\"},{\"attributes\":{},\"id\":\"1182\",\"type\":\"LinearScale\"},{\"attributes\":{\"below\":[{\"id\":\"1012\",\"type\":\"LinearAxis\"}],\"extra_y_ranges\":{\"axvol\":{\"id\":\"1055\",\"type\":\"DataRange1d\"}},\"left\":[{\"id\":\"1017\",\"type\":\"LinearAxis\"},{\"id\":\"1056\",\"type\":\"LinearAxis\"}],\"plot_height\":800,\"plot_width\":1800,\"renderers\":[{\"id\":\"1012\",\"type\":\"LinearAxis\"},{\"id\":\"1016\",\"type\":\"Grid\"},{\"id\":\"1017\",\"type\":\"LinearAxis\"},{\"id\":\"1021\",\"type\":\"Grid\"},{\"id\":\"1028\",\"type\":\"BoxAnnotation\"},{\"id\":\"1047\",\"type\":\"GlyphRenderer\"},{\"id\":\"1052\",\"type\":\"GlyphRenderer\"},{\"id\":\"1056\",\"type\":\"LinearAxis\"},{\"id\":\"1072\",\"type\":\"Legend\"},{\"id\":\"1061\",\"type\":\"GlyphRenderer\"},{\"id\":\"1080\",\"type\":\"GlyphRenderer\"},{\"id\":\"1095\",\"type\":\"GlyphRenderer\"}],\"sizing_mode\":\"fixed\",\"title\":{\"id\":\"1033\",\"type\":\"Title\"},\"toolbar\":{\"id\":\"1026\",\"type\":\"Toolbar\"},\"toolbar_location\":null,\"x_range\":{\"id\":\"1004\",\"type\":\"DataRange1d\"},\"x_scale\":{\"id\":\"1008\",\"type\":\"LinearScale\"},\"y_range\":{\"id\":\"1006\",\"type\":\"DataRange1d\"},\"y_scale\":{\"id\":\"1010\",\"type\":\"LinearScale\"}},\"id\":\"1003\",\"subtype\":\"Figure\",\"type\":\"Plot\"},{\"attributes\":{\"data_source\":{\"id\":\"1002\",\"type\":\"ColumnDataSource\"},\"glyph\":{\"id\":\"1164\",\"type\":\"Line\"},\"hover_glyph\":null,\"muted_glyph\":null,\"name\":\"value\",\"nonselection_glyph\":{\"id\":\"1165\",\"type\":\"Line\"},\"selection_glyph\":null,\"view\":{\"id\":\"1167\",\"type\":\"CDSView\"}},\"id\":\"1166\",\"type\":\"GlyphRenderer\"},{\"attributes\":{\"label\":{\"value\":\"Volume\"},\"renderers\":[{\"id\":\"1061\",\"type\":\"GlyphRenderer\"}]},\"id\":\"1073\",\"type\":\"LegendItem\"},{\"attributes\":{},\"id\":\"1461\",\"type\":\"StringEditor\"},{\"attributes\":{},\"id\":\"1405\",\"type\":\"NumberFormatter\"},{\"attributes\":{\"editor\":{\"id\":\"1466\",\"type\":\"StringEditor\"},\"field\":\"col1\",\"formatter\":{\"id\":\"1316\",\"type\":\"NumberFormatter\"},\"title\":\"Value\"},\"id\":\"1317\",\"type\":\"TableColumn\"},{\"attributes\":{\"background_fill_color\":{\"value\":\"#f5f5f5\"},\"click_policy\":\"hide\",\"items\":[{\"id\":\"1232\",\"type\":\"LegendItem\"},{\"id\":\"1246\",\"type\":\"LegendItem\"}],\"label_text_color\":{\"value\":\"#333333\"},\"plot\":{\"id\":\"1177\",\"subtype\":\"Figure\",\"type\":\"Plot\"}},\"id\":\"1231\",\"type\":\"Legend\"},{\"attributes\":{},\"id\":\"1127\",\"type\":\"WheelZoomTool\"},{\"attributes\":{\"editor\":{\"id\":\"1498\",\"type\":\"StringEditor\"},\"field\":\"col1\",\"formatter\":{\"id\":\"1405\",\"type\":\"NumberFormatter\"},\"title\":\"Total\"},\"id\":\"1406\",\"type\":\"TableColumn\"},{\"attributes\":{},\"id\":\"1293\",\"type\":\"StringFormatter\"},{\"attributes\":{\"line_color\":\"#0000ff\",\"x\":{\"field\":\"index\"},\"y\":{\"field\":\"139963904988880\"}},\"id\":\"1164\",\"type\":\"Line\"},{\"attributes\":{\"below\":[{\"id\":\"1186\",\"type\":\"LinearAxis\"}],\"left\":[{\"id\":\"1191\",\"type\":\"LinearAxis\"}],\"plot_height\":400,\"plot_width\":1800,\"renderers\":[{\"id\":\"1186\",\"type\":\"LinearAxis\"},{\"id\":\"1190\",\"type\":\"Grid\"},{\"id\":\"1191\",\"type\":\"LinearAxis\"},{\"id\":\"1195\",\"type\":\"Grid\"},{\"id\":\"1202\",\"type\":\"BoxAnnotation\"},{\"id\":\"1231\",\"type\":\"Legend\"},{\"id\":\"1221\",\"type\":\"GlyphRenderer\"},{\"id\":\"1236\",\"type\":\"GlyphRenderer\"},{\"id\":\"1247\",\"type\":\"Span\"}],\"sizing_mode\":\"fixed\",\"title\":{\"id\":\"1207\",\"type\":\"Title\"},\"toolbar\":{\"id\":\"1200\",\"type\":\"Toolbar\"},\"toolbar_location\":null,\"x_range\":{\"id\":\"1004\",\"type\":\"DataRange1d\"},\"x_scale\":{\"id\":\"1182\",\"type\":\"LinearScale\"},\"y_range\":{\"id\":\"1180\",\"type\":\"DataRange1d\"},\"y_scale\":{\"id\":\"1184\",\"type\":\"LinearScale\"}},\"id\":\"1177\",\"subtype\":\"Figure\",\"type\":\"Plot\"},{\"attributes\":{\"line_alpha\":0.1,\"line_color\":\"#1f77b4\",\"x\":{\"field\":\"index\"},\"y\":{\"field\":\"139963904990224\"}},\"id\":\"1150\",\"type\":\"Line\"},{\"attributes\":{},\"id\":\"1462\",\"type\":\"StringEditor\"},{\"attributes\":{\"source\":{\"id\":\"1312\",\"type\":\"ColumnDataSource\"}},\"id\":\"1323\",\"type\":\"CDSView\"},{\"attributes\":{\"children\":[{\"id\":\"1431\",\"type\":\"Column\"},{\"id\":\"1436\",\"type\":\"Column\"}]},\"id\":\"1437\",\"type\":\"Row\"}],\"root_ids\":[\"1439\"]},\"title\":\"Bokeh Application\",\"version\":\"1.0.4\"}};\n",
       "  var render_items = [{\"docid\":\"c5b47f33-17a7-4b0d-8362-f0b16b39a234\",\"roots\":{\"1439\":\"7bea2412-ed1d-4639-a7f7-59477ba5424c\"}}];\n",
       "  root.Bokeh.embed.embed_items_notebook(docs_json, render_items);\n",
       "\n",
       "  }\n",
       "  if (root.Bokeh !== undefined) {\n",
       "    embed_document(root);\n",
       "  } else {\n",
       "    var attempts = 0;\n",
       "    var timer = setInterval(function(root) {\n",
       "      if (root.Bokeh !== undefined) {\n",
       "        embed_document(root);\n",
       "        clearInterval(timer);\n",
       "      }\n",
       "      attempts++;\n",
       "      if (attempts > 100) {\n",
       "        console.log(\"Bokeh: ERROR: Unable to run BokehJS code because BokehJS library is missing\");\n",
       "        clearInterval(timer);\n",
       "      }\n",
       "    }, 10, root)\n",
       "  }\n",
       "})(window);"
      ],
      "application/vnd.bokehjs_exec.v0+json": ""
     },
     "metadata": {
      "application/vnd.bokehjs_exec.v0+json": {
       "id": "1439"
      }
     },
     "output_type": "display_data"
    }
   ],
   "source": [
    "perform_backtest(coin_name, n_fast_par=24, n_slow_par=52, long_macd_threshold_par=2, long_per_threshold_par=1, \n",
    "                        long_close_threshold_par=1, short_macd_threshold_par=-1, short_per_threshold_par=-1, short_close_threshold_par=0.5,\n",
    "                        initial_cash=10000, comission=0.1, df=features)"
   ]
  },
  {
   "cell_type": "code",
   "execution_count": null,
   "metadata": {},
   "outputs": [],
   "source": [
    "os.remove('data/features/BTC.csv')"
   ]
  }
 ],
 "metadata": {
  "kernelspec": {
   "display_name": "crypto-analysis",
   "language": "python",
   "name": "crypto-analysis"
  },
  "language_info": {
   "codemirror_mode": {
    "name": "ipython",
    "version": 3
   },
   "file_extension": ".py",
   "mimetype": "text/x-python",
   "name": "python",
   "nbconvert_exporter": "python",
   "pygments_lexer": "ipython3",
   "version": "3.7.4"
  }
 },
 "nbformat": 4,
 "nbformat_minor": 2
}
