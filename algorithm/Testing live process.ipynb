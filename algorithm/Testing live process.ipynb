{
 "cells": [
  {
   "cell_type": "code",
   "execution_count": 90,
   "metadata": {},
   "outputs": [],
   "source": [
    "import os\n",
    "import shutil\n",
    "from threading import Thread\n",
    "from glob import glob\n",
    "from subprocess import Popen\n",
    "\n",
    "import pandas as pd\n",
    "import numpy as np\n",
    "\n",
    "import datetime\n",
    "import time\n",
    "\n",
    "from features import get_features, perform_backtest\n",
    "\n",
    "from twitter_stream import twitter_stream\n",
    "from price_stream import price_stream\n",
    "from utils.common_utils import get_root_dir, merge_csvs\n",
    "from process import processor, get_sentiment, clean_further, add_keyword, clean_profile"
   ]
  },
  {
   "cell_type": "code",
   "execution_count": 128,
   "metadata": {},
   "outputs": [],
   "source": [
    "keywords = pd.read_csv('keywords.csv')"
   ]
  },
  {
   "cell_type": "code",
   "execution_count": 58,
   "metadata": {},
   "outputs": [],
   "source": [
    "files = glob('data/test/*')"
   ]
  },
  {
   "cell_type": "code",
   "execution_count": 59,
   "metadata": {},
   "outputs": [],
   "source": [
    "combined = merge_csvs(files)"
   ]
  },
  {
   "cell_type": "code",
   "execution_count": 60,
   "metadata": {},
   "outputs": [],
   "source": [
    "df = pd.read_csv(combined)"
   ]
  },
  {
   "cell_type": "code",
   "execution_count": 62,
   "metadata": {},
   "outputs": [
    {
     "name": "stderr",
     "output_type": "stream",
     "text": [
      "/home/warproxxx/Desktop/Projects/crypto-analysis-live/algorithm/process.py:95: SettingWithCopyWarning:\n",
      "\n",
      "\n",
      "A value is trying to be set on a copy of a slice from a DataFrame.\n",
      "Try using .loc[row_indexer,col_indexer] = value instead\n",
      "\n",
      "See the caveats in the documentation: http://pandas.pydata.org/pandas-docs/stable/indexing.html#indexing-view-versus-copy\n",
      "\n",
      "/home/warproxxx/Desktop/Projects/crypto-analysis-live/algorithm/process.py:96: SettingWithCopyWarning:\n",
      "\n",
      "\n",
      "A value is trying to be set on a copy of a slice from a DataFrame.\n",
      "Try using .loc[row_indexer,col_indexer] = value instead\n",
      "\n",
      "See the caveats in the documentation: http://pandas.pydata.org/pandas-docs/stable/indexing.html#indexing-view-versus-copy\n",
      "\n"
     ]
    }
   ],
   "source": [
    "df, user_info = processor(df)"
   ]
  },
  {
   "cell_type": "code",
   "execution_count": 64,
   "metadata": {},
   "outputs": [
    {
     "data": {
      "text/plain": [
       "1236040"
      ]
     },
     "execution_count": 64,
     "metadata": {},
     "output_type": "execute_result"
    }
   ],
   "source": [
    "len(df)"
   ]
  },
  {
   "cell_type": "code",
   "execution_count": 65,
   "metadata": {},
   "outputs": [
    {
     "data": {
      "text/plain": [
       "443808"
      ]
     },
     "execution_count": 65,
     "metadata": {},
     "output_type": "execute_result"
    }
   ],
   "source": [
    "len(user_info)"
   ]
  },
  {
   "cell_type": "code",
   "execution_count": 71,
   "metadata": {},
   "outputs": [
    {
     "data": {
      "text/plain": [
       "dtype('int64')"
      ]
     },
     "execution_count": 71,
     "metadata": {},
     "output_type": "execute_result"
    }
   ],
   "source": [
    "df['Time'].dtype"
   ]
  },
  {
   "cell_type": "code",
   "execution_count": 72,
   "metadata": {},
   "outputs": [
    {
     "data": {
      "text/plain": [
       "dtype('int64')"
      ]
     },
     "execution_count": 72,
     "metadata": {},
     "output_type": "execute_result"
    }
   ],
   "source": [
    "df['ID'].dtype"
   ]
  },
  {
   "cell_type": "code",
   "execution_count": 123,
   "metadata": {},
   "outputs": [],
   "source": [
    "df['Time'] = pd.to_datetime(df['Time'], unit='s')"
   ]
  },
  {
   "cell_type": "code",
   "execution_count": 73,
   "metadata": {},
   "outputs": [
    {
     "data": {
      "application/vnd.jupyter.widget-view+json": {
       "model_id": "83ed96ce11d14ccaa45c18ed49c1c4d0",
       "version_major": 2,
       "version_minor": 0
      },
      "text/plain": [
       "HBox(children=(IntProgress(value=0, description='Pandas Apply', max=1236040, style=ProgressStyle(description_w…"
      ]
     },
     "metadata": {},
     "output_type": "display_data"
    },
    {
     "name": "stdout",
     "output_type": "stream",
     "text": [
      "\n"
     ]
    }
   ],
   "source": [
    "df = add_keyword(df)"
   ]
  },
  {
   "cell_type": "code",
   "execution_count": 80,
   "metadata": {},
   "outputs": [
    {
     "data": {
      "text/plain": [
       "BTC       220742\n",
       "ETH        50106\n",
       "TRX        26803\n",
       "XRP        26653\n",
       "LTC        12940\n",
       "EOS        10005\n",
       "MIOTA       5494\n",
       "LINK        4057\n",
       "BCHABC      2323\n",
       "XLM         2244\n",
       "ADA         1556\n",
       "ZEC         1418\n",
       "XMR         1288\n",
       "BNB         1098\n",
       "BSV          982\n",
       "XTZ          826\n",
       "DASH         595\n",
       "NEO          571\n",
       "ETC          361\n",
       "BTG          171\n",
       "ZRX           88\n",
       "OMG           37\n",
       "ETP           26\n",
       "SAN           18\n",
       "Name: keyword, dtype: int64"
      ]
     },
     "execution_count": 80,
     "metadata": {},
     "output_type": "execute_result"
    }
   ],
   "source": [
    "df['keyword'].value_counts(dropna=False)"
   ]
  },
  {
   "cell_type": "code",
   "execution_count": 76,
   "metadata": {},
   "outputs": [],
   "source": [
    "df = df[df['keyword'] != 'invalid']"
   ]
  },
  {
   "cell_type": "code",
   "execution_count": 108,
   "metadata": {},
   "outputs": [],
   "source": [
    "df = df.reset_index(drop=True)"
   ]
  },
  {
   "cell_type": "code",
   "execution_count": 112,
   "metadata": {},
   "outputs": [
    {
     "name": "stderr",
     "output_type": "stream",
     "text": [
      "/home/warproxxx/Desktop/Projects/crypto-analysis-live/algorithm/process.py:191: FutureWarning:\n",
      "\n",
      "The signature of `Series.to_csv` was aligned to that of `DataFrame.to_csv`, and argument 'header' will change its default value from False to True: please pass an explicit value to suppress this warning.\n",
      "\n"
     ]
    },
    {
     "name": "stdout",
     "output_type": "stream",
     "text": [
      "java -jar /home/warproxxx/Desktop/Projects/crypto-analysis-live/algorithm/utils/SentiStrength.jar sentidata /home/warproxxx/Desktop/Projects/crypto-analysis-live/algorithm/utils/SentiStrength_Data/ input /home/warproxxx/Desktop/Projects/crypto-analysis-live/algorithm/data/temp/tweets\n"
     ]
    }
   ],
   "source": [
    "df = get_sentiment(df)"
   ]
  },
  {
   "cell_type": "code",
   "execution_count": 114,
   "metadata": {},
   "outputs": [
    {
     "data": {
      "text/plain": [
       " 0    204810\n",
       " 1     65900\n",
       " 2     37442\n",
       "-1     33652\n",
       "-2     11371\n",
       " 3      8994\n",
       "-3      4450\n",
       " 4      3608\n",
       "-4       175\n",
       "Name: pos_neg, dtype: int64"
      ]
     },
     "execution_count": 114,
     "metadata": {},
     "output_type": "execute_result"
    }
   ],
   "source": [
    "df['pos_neg'].value_counts(dropna=False)"
   ]
  },
  {
   "cell_type": "code",
   "execution_count": 116,
   "metadata": {},
   "outputs": [],
   "source": [
    "profilefile = 'data/cleaned_profile.csv'"
   ]
  },
  {
   "cell_type": "code",
   "execution_count": 117,
   "metadata": {},
   "outputs": [],
   "source": [
    "if os.path.isfile(profilefile):\n",
    "    user_info = pd.concat([user_info, pd.read_csv(profilefile)])\n",
    "    user_info = clean_profile(user_info)"
   ]
  },
  {
   "cell_type": "code",
   "execution_count": null,
   "metadata": {},
   "outputs": [],
   "source": [
    "df = df.sort_values('Time')\n",
    "df = df.set_index('Time')\n",
    "df.index = df.index.ceil(freq='30Min')  \n",
    "df = df.reset_index()"
   ]
  },
  {
   "cell_type": "code",
   "execution_count": null,
   "metadata": {},
   "outputs": [],
   "source": [
    "coin_name = 'BTC'"
   ]
  },
  {
   "cell_type": "code",
   "execution_count": null,
   "metadata": {},
   "outputs": [],
   "source": [
    "## VERIFYING TIME"
   ]
  },
  {
   "cell_type": "code",
   "execution_count": 201,
   "metadata": {},
   "outputs": [
    {
     "data": {
      "text/plain": [
       "Timestamp('2019-08-09 06:30:00')"
      ]
     },
     "execution_count": 201,
     "metadata": {},
     "output_type": "execute_result"
    }
   ],
   "source": [
    "pd.Timestamp('2019-08-09 06:01:00').ceil(freq='30Min') #test of ceil"
   ]
  },
  {
   "cell_type": "code",
   "execution_count": 203,
   "metadata": {},
   "outputs": [],
   "source": [
    "price_df = pd.read_csv('data/price/{}.csv'.format(coin_name))"
   ]
  },
  {
   "cell_type": "code",
   "execution_count": 210,
   "metadata": {},
   "outputs": [],
   "source": [
    "price_df['Time'] = pd.to_datetime(price_df['Time'])"
   ]
  },
  {
   "cell_type": "code",
   "execution_count": 221,
   "metadata": {
    "scrolled": true
   },
   "outputs": [
    {
     "data": {
      "text/html": [
       "<div>\n",
       "<style scoped>\n",
       "    .dataframe tbody tr th:only-of-type {\n",
       "        vertical-align: middle;\n",
       "    }\n",
       "\n",
       "    .dataframe tbody tr th {\n",
       "        vertical-align: top;\n",
       "    }\n",
       "\n",
       "    .dataframe thead th {\n",
       "        text-align: right;\n",
       "    }\n",
       "</style>\n",
       "<table border=\"1\" class=\"dataframe\">\n",
       "  <thead>\n",
       "    <tr style=\"text-align: right;\">\n",
       "      <th></th>\n",
       "      <th>Time</th>\n",
       "      <th>Open</th>\n",
       "      <th>High</th>\n",
       "      <th>Low</th>\n",
       "      <th>Close</th>\n",
       "      <th>Volume</th>\n",
       "    </tr>\n",
       "  </thead>\n",
       "  <tbody>\n",
       "    <tr>\n",
       "      <th>0</th>\n",
       "      <td>2019-07-01 00:00:00</td>\n",
       "      <td>10854.10</td>\n",
       "      <td>10883.19</td>\n",
       "      <td>10840.10</td>\n",
       "      <td>10876.07</td>\n",
       "      <td>1.496492e+06</td>\n",
       "    </tr>\n",
       "    <tr>\n",
       "      <th>1</th>\n",
       "      <td>2019-07-01 00:01:00</td>\n",
       "      <td>10877.24</td>\n",
       "      <td>10885.57</td>\n",
       "      <td>10853.20</td>\n",
       "      <td>10881.44</td>\n",
       "      <td>1.099121e+06</td>\n",
       "    </tr>\n",
       "    <tr>\n",
       "      <th>2</th>\n",
       "      <td>2019-07-01 00:02:00</td>\n",
       "      <td>10880.16</td>\n",
       "      <td>10880.17</td>\n",
       "      <td>10835.00</td>\n",
       "      <td>10835.00</td>\n",
       "      <td>1.574824e+06</td>\n",
       "    </tr>\n",
       "    <tr>\n",
       "      <th>3</th>\n",
       "      <td>2019-07-01 00:03:00</td>\n",
       "      <td>10835.02</td>\n",
       "      <td>10840.00</td>\n",
       "      <td>10811.99</td>\n",
       "      <td>10828.56</td>\n",
       "      <td>1.719258e+06</td>\n",
       "    </tr>\n",
       "    <tr>\n",
       "      <th>4</th>\n",
       "      <td>2019-07-01 00:04:00</td>\n",
       "      <td>10826.60</td>\n",
       "      <td>10827.97</td>\n",
       "      <td>10775.00</td>\n",
       "      <td>10812.51</td>\n",
       "      <td>1.394439e+06</td>\n",
       "    </tr>\n",
       "    <tr>\n",
       "      <th>5</th>\n",
       "      <td>2019-07-01 00:05:00</td>\n",
       "      <td>10812.51</td>\n",
       "      <td>10826.74</td>\n",
       "      <td>10736.05</td>\n",
       "      <td>10736.05</td>\n",
       "      <td>2.634270e+06</td>\n",
       "    </tr>\n",
       "    <tr>\n",
       "      <th>6</th>\n",
       "      <td>2019-07-01 00:06:00</td>\n",
       "      <td>10735.78</td>\n",
       "      <td>10787.36</td>\n",
       "      <td>10719.00</td>\n",
       "      <td>10778.28</td>\n",
       "      <td>2.702564e+06</td>\n",
       "    </tr>\n",
       "    <tr>\n",
       "      <th>7</th>\n",
       "      <td>2019-07-01 00:07:00</td>\n",
       "      <td>10776.06</td>\n",
       "      <td>10840.00</td>\n",
       "      <td>10770.59</td>\n",
       "      <td>10830.20</td>\n",
       "      <td>1.606807e+06</td>\n",
       "    </tr>\n",
       "    <tr>\n",
       "      <th>8</th>\n",
       "      <td>2019-07-01 00:08:00</td>\n",
       "      <td>10825.82</td>\n",
       "      <td>10850.01</td>\n",
       "      <td>10805.70</td>\n",
       "      <td>10831.59</td>\n",
       "      <td>1.361710e+06</td>\n",
       "    </tr>\n",
       "    <tr>\n",
       "      <th>9</th>\n",
       "      <td>2019-07-01 00:09:00</td>\n",
       "      <td>10829.84</td>\n",
       "      <td>10870.00</td>\n",
       "      <td>10829.73</td>\n",
       "      <td>10862.75</td>\n",
       "      <td>1.045778e+06</td>\n",
       "    </tr>\n",
       "    <tr>\n",
       "      <th>10</th>\n",
       "      <td>2019-07-01 00:10:00</td>\n",
       "      <td>10858.68</td>\n",
       "      <td>10863.00</td>\n",
       "      <td>10815.01</td>\n",
       "      <td>10834.93</td>\n",
       "      <td>1.394856e+06</td>\n",
       "    </tr>\n",
       "    <tr>\n",
       "      <th>11</th>\n",
       "      <td>2019-07-01 00:11:00</td>\n",
       "      <td>10834.73</td>\n",
       "      <td>10847.05</td>\n",
       "      <td>10812.17</td>\n",
       "      <td>10840.00</td>\n",
       "      <td>5.408300e+05</td>\n",
       "    </tr>\n",
       "    <tr>\n",
       "      <th>12</th>\n",
       "      <td>2019-07-01 00:12:00</td>\n",
       "      <td>10841.06</td>\n",
       "      <td>10956.44</td>\n",
       "      <td>10840.00</td>\n",
       "      <td>10942.09</td>\n",
       "      <td>2.212024e+06</td>\n",
       "    </tr>\n",
       "    <tr>\n",
       "      <th>13</th>\n",
       "      <td>2019-07-01 00:13:00</td>\n",
       "      <td>10942.08</td>\n",
       "      <td>10984.32</td>\n",
       "      <td>10892.27</td>\n",
       "      <td>10970.89</td>\n",
       "      <td>3.090581e+06</td>\n",
       "    </tr>\n",
       "    <tr>\n",
       "      <th>14</th>\n",
       "      <td>2019-07-01 00:14:00</td>\n",
       "      <td>10971.78</td>\n",
       "      <td>11047.01</td>\n",
       "      <td>10960.12</td>\n",
       "      <td>11003.39</td>\n",
       "      <td>2.609168e+06</td>\n",
       "    </tr>\n",
       "    <tr>\n",
       "      <th>15</th>\n",
       "      <td>2019-07-01 00:15:00</td>\n",
       "      <td>11003.43</td>\n",
       "      <td>11035.36</td>\n",
       "      <td>10978.01</td>\n",
       "      <td>10992.50</td>\n",
       "      <td>1.935913e+06</td>\n",
       "    </tr>\n",
       "    <tr>\n",
       "      <th>16</th>\n",
       "      <td>2019-07-01 00:16:00</td>\n",
       "      <td>10993.95</td>\n",
       "      <td>11035.00</td>\n",
       "      <td>10978.80</td>\n",
       "      <td>10992.92</td>\n",
       "      <td>1.749922e+06</td>\n",
       "    </tr>\n",
       "    <tr>\n",
       "      <th>17</th>\n",
       "      <td>2019-07-01 00:17:00</td>\n",
       "      <td>10987.76</td>\n",
       "      <td>11019.65</td>\n",
       "      <td>10958.16</td>\n",
       "      <td>10976.35</td>\n",
       "      <td>9.279141e+05</td>\n",
       "    </tr>\n",
       "    <tr>\n",
       "      <th>18</th>\n",
       "      <td>2019-07-01 00:18:00</td>\n",
       "      <td>10976.64</td>\n",
       "      <td>10995.00</td>\n",
       "      <td>10951.75</td>\n",
       "      <td>10992.50</td>\n",
       "      <td>9.635395e+05</td>\n",
       "    </tr>\n",
       "    <tr>\n",
       "      <th>19</th>\n",
       "      <td>2019-07-01 00:19:00</td>\n",
       "      <td>10992.68</td>\n",
       "      <td>11010.00</td>\n",
       "      <td>10970.35</td>\n",
       "      <td>10998.14</td>\n",
       "      <td>8.109871e+05</td>\n",
       "    </tr>\n",
       "  </tbody>\n",
       "</table>\n",
       "</div>"
      ],
      "text/plain": [
       "                  Time      Open      High       Low     Close        Volume\n",
       "0  2019-07-01 00:00:00  10854.10  10883.19  10840.10  10876.07  1.496492e+06\n",
       "1  2019-07-01 00:01:00  10877.24  10885.57  10853.20  10881.44  1.099121e+06\n",
       "2  2019-07-01 00:02:00  10880.16  10880.17  10835.00  10835.00  1.574824e+06\n",
       "3  2019-07-01 00:03:00  10835.02  10840.00  10811.99  10828.56  1.719258e+06\n",
       "4  2019-07-01 00:04:00  10826.60  10827.97  10775.00  10812.51  1.394439e+06\n",
       "5  2019-07-01 00:05:00  10812.51  10826.74  10736.05  10736.05  2.634270e+06\n",
       "6  2019-07-01 00:06:00  10735.78  10787.36  10719.00  10778.28  2.702564e+06\n",
       "7  2019-07-01 00:07:00  10776.06  10840.00  10770.59  10830.20  1.606807e+06\n",
       "8  2019-07-01 00:08:00  10825.82  10850.01  10805.70  10831.59  1.361710e+06\n",
       "9  2019-07-01 00:09:00  10829.84  10870.00  10829.73  10862.75  1.045778e+06\n",
       "10 2019-07-01 00:10:00  10858.68  10863.00  10815.01  10834.93  1.394856e+06\n",
       "11 2019-07-01 00:11:00  10834.73  10847.05  10812.17  10840.00  5.408300e+05\n",
       "12 2019-07-01 00:12:00  10841.06  10956.44  10840.00  10942.09  2.212024e+06\n",
       "13 2019-07-01 00:13:00  10942.08  10984.32  10892.27  10970.89  3.090581e+06\n",
       "14 2019-07-01 00:14:00  10971.78  11047.01  10960.12  11003.39  2.609168e+06\n",
       "15 2019-07-01 00:15:00  11003.43  11035.36  10978.01  10992.50  1.935913e+06\n",
       "16 2019-07-01 00:16:00  10993.95  11035.00  10978.80  10992.92  1.749922e+06\n",
       "17 2019-07-01 00:17:00  10987.76  11019.65  10958.16  10976.35  9.279141e+05\n",
       "18 2019-07-01 00:18:00  10976.64  10995.00  10951.75  10992.50  9.635395e+05\n",
       "19 2019-07-01 00:19:00  10992.68  11010.00  10970.35  10998.14  8.109871e+05"
      ]
     },
     "execution_count": 221,
     "metadata": {},
     "output_type": "execute_result"
    }
   ],
   "source": [
    "price_df.head(20)"
   ]
  },
  {
   "cell_type": "code",
   "execution_count": 222,
   "metadata": {
    "scrolled": true
   },
   "outputs": [
    {
     "data": {
      "text/html": [
       "<div>\n",
       "<style scoped>\n",
       "    .dataframe tbody tr th:only-of-type {\n",
       "        vertical-align: middle;\n",
       "    }\n",
       "\n",
       "    .dataframe tbody tr th {\n",
       "        vertical-align: top;\n",
       "    }\n",
       "\n",
       "    .dataframe thead th {\n",
       "        text-align: right;\n",
       "    }\n",
       "</style>\n",
       "<table border=\"1\" class=\"dataframe\">\n",
       "  <thead>\n",
       "    <tr style=\"text-align: right;\">\n",
       "      <th></th>\n",
       "      <th>Open</th>\n",
       "      <th>High</th>\n",
       "      <th>Low</th>\n",
       "      <th>Close</th>\n",
       "      <th>Volume</th>\n",
       "    </tr>\n",
       "    <tr>\n",
       "      <th>Time</th>\n",
       "      <th></th>\n",
       "      <th></th>\n",
       "      <th></th>\n",
       "      <th></th>\n",
       "      <th></th>\n",
       "    </tr>\n",
       "  </thead>\n",
       "  <tbody>\n",
       "    <tr>\n",
       "      <th>2019-07-01 00:10:00</th>\n",
       "      <td>10854.10</td>\n",
       "      <td>10885.57</td>\n",
       "      <td>10719.00</td>\n",
       "      <td>10862.75</td>\n",
       "      <td>1.663526e+07</td>\n",
       "    </tr>\n",
       "    <tr>\n",
       "      <th>2019-07-01 00:20:00</th>\n",
       "      <td>10858.68</td>\n",
       "      <td>11047.01</td>\n",
       "      <td>10812.17</td>\n",
       "      <td>10998.14</td>\n",
       "      <td>1.623573e+07</td>\n",
       "    </tr>\n",
       "  </tbody>\n",
       "</table>\n",
       "</div>"
      ],
      "text/plain": [
       "                         Open      High       Low     Close        Volume\n",
       "Time                                                                     \n",
       "2019-07-01 00:10:00  10854.10  10885.57  10719.00  10862.75  1.663526e+07\n",
       "2019-07-01 00:20:00  10858.68  11047.01  10812.17  10998.14  1.623573e+07"
      ]
     },
     "execution_count": 222,
     "metadata": {},
     "output_type": "execute_result"
    }
   ],
   "source": [
    "get_price('BTC', duration='10Min').head(2) #uses the next 10 mins. Manually verifying that"
   ]
  },
  {
   "cell_type": "code",
   "execution_count": 223,
   "metadata": {},
   "outputs": [],
   "source": [
    "## VERIFIED TIME ##"
   ]
  },
  {
   "cell_type": "code",
   "execution_count": 243,
   "metadata": {},
   "outputs": [],
   "source": [
    "price_df = get_price('BTC')\n",
    "tweet_df = df[df['keyword'] == coin_name].drop('keyword', axis=1).reset_index(drop=True)\n",
    "\n",
    "curr_start = df.iloc[0]['Time']\n",
    "curr_end = df.iloc[-1]['Time']"
   ]
  },
  {
   "cell_type": "code",
   "execution_count": null,
   "metadata": {},
   "outputs": [],
   "source": [
    "get_features(tweet_df, price_df, )"
   ]
  }
 ],
 "metadata": {
  "kernelspec": {
   "display_name": "crypto-analysis",
   "language": "python",
   "name": "crypto-analysis"
  },
  "language_info": {
   "codemirror_mode": {
    "name": "ipython",
    "version": 3
   },
   "file_extension": ".py",
   "mimetype": "text/x-python",
   "name": "python",
   "nbconvert_exporter": "python",
   "pygments_lexer": "ipython3",
   "version": "3.7.4"
  }
 },
 "nbformat": 4,
 "nbformat_minor": 2
}
